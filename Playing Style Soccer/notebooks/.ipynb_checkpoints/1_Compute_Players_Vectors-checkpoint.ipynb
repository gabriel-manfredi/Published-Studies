{
 "cells": [
  {
   "cell_type": "markdown",
   "metadata": {},
   "source": [
    "# Compute Players Vectors\n",
    "In this notebook we load the raw data from WyScout and we extract the different characteristics that compose our 79-length vectors describing each player's style.\n",
    "For this we write 3 different functions:\n",
    "- extract_characteristics: extracts all attributes related to player's actions, location, etc. In other words, everything except the attributes related to Social Network Analysis. In total these are 63 attributes. Some of these were inspired by the work of Decroos & Davis (2019)\n",
    "- extract_player_motifs: extracts all 15 network motifs intensity of each player. Inspired by the work of Bekkers (2019)\n",
    "- extract_flow_centrality: extracts the flow centrality of each player. That is, the fraction of his team's total possession plays in which he was involved with at least one pass or shot."
   ]
  },
  {
   "cell_type": "code",
   "execution_count": 1,
   "metadata": {},
   "outputs": [],
   "source": [
    "import json\n",
    "from collections import Counter\n",
    "import numpy as np\n",
    "import operator\n",
    "import matplotlib.pyplot as plt\n",
    "from matplotlib.ticker import FuncFormatter\n",
    "from matplotlib.patches import Ellipse\n",
    "from sklearn.preprocessing import MinMaxScaler\n",
    "from sklearn.preprocessing import StandardScaler\n",
    "import seaborn as sns\n",
    "import pandas as pd\n",
    "import networkx as nx\n",
    "import base64\n",
    "from collections import defaultdict\n",
    "import sys, os\n",
    "import math\n",
    "import random\n",
    "import operator\n",
    "import csv\n",
    "import matplotlib.pylab as pyl\n",
    "import itertools\n",
    "import scipy as sp\n",
    "from scipy import stats\n",
    "import scipy.stats as stats\n",
    "from scipy import optimize\n",
    "from scipy.integrate import quad\n",
    "import networkx as nx\n",
    "import re\n",
    "import warnings\n",
    "from IPython import display\n",
    "\n",
    "warnings.filterwarnings(\"ignore\")\n",
    "pd.set_option(\"display.max_columns\", 180)\n",
    "from tqdm.notebook import tqdm"
   ]
  },
  {
   "cell_type": "code",
   "execution_count": 2,
   "metadata": {},
   "outputs": [],
   "source": [
    "def load_data(nations):\n",
    "    events_idx = {}\n",
    "    for nation in nations:\n",
    "        with open(\"events_%s.json\" % nation) as json_data:\n",
    "            events_idx[nation] = json.load(json_data)\n",
    "    matches_idx = {}\n",
    "    for nation in nations:\n",
    "        with open(\"matches_%s.json\" % nation) as json_data:\n",
    "            matches_idx[nation] = json.load(json_data)\n",
    "    players_idx = {}\n",
    "    with open(\"players.json\") as json_data:\n",
    "        players_idx = json.load(json_data)\n",
    "    competitions_idx = {}\n",
    "    with open(\"competitions.json\") as json_data:\n",
    "        competitions_idx = json.load(json_data)\n",
    "    teams_idx = {}\n",
    "    with open(\"teams.json\") as json_data:\n",
    "        teams_idx = json.load(json_data)\n",
    "    events = pd.DataFrame()\n",
    "    matches = pd.DataFrame()\n",
    "    for nation in nations:\n",
    "        events = events.append(events_idx[nation])\n",
    "        matches = matches.append(matches_idx[nation])\n",
    "    players = pd.DataFrame(players_idx)\n",
    "    competitions = pd.DataFrame(competitions_idx)\n",
    "    teams = pd.DataFrame(teams_idx)\n",
    "    events=events[['eventId', \n",
    "                   'eventName', \n",
    "                   'eventSec', \n",
    "                   'id', \n",
    "                   'matchId', \n",
    "                   'matchPeriod', \n",
    "                   'playerId', \n",
    "                   'positions', \n",
    "                   'subEventId',\n",
    "                  'subEventName', \n",
    "                   'tags', \n",
    "                   'teamId'\n",
    "                    ]]\n",
    "    return events, matches, players, competitions, teams"
   ]
  },
  {
   "cell_type": "code",
   "execution_count": 3,
   "metadata": {},
   "outputs": [],
   "source": [
    "dict_chars = {\"\\\\u00c0\": \"À\", \"\\\\u00c1\": \"Á\", \"\\\\u00c2\": \"Â\", \"\\\\u00c3\": \"Ã\", \"\\\\u00c4\": \"Ä\", \"\\\\u00c5\": \"Å\", \"\\\\u00c6\": \"Æ\", \n",
    "            \"\\\\u00c7\": \"Ç\", \"\\\\u00c8\": \"È\", \"\\\\u00c9\": \"É\", \"\\\\u00ca\": \"Ê\", \"\\\\u00cb\": \"Ë\", \"\\\\u00cc\": \"Ì\", \"\\\\u00cd\": \"Í\",\n",
    "             \"\\\\u00ce\": \"Î\", \"\\\\u00cf\": \"Ï\", \"\\\\u00d1\": \"Ñ\", \"\\\\u00d2\": \"Ò\", \"\\\\u00d3\": \"Ó\", \"\\\\u00d4\": \"Ô\", \"\\\\u00d5\": \"Õ\", \n",
    "             \"\\\\u00d6\": \"Ö\", \"\\\\u00d8\": \"Ø\", \"\\\\u00d9\": \"Ù\", \"\\\\u00da\": \"Ú\", \"\\\\u00db\": \"Û\", \"\\\\u00dc\": \"Ü\", \"\\\\u00dc\": \"Ü\",\n",
    "             \"\\\\u00dd\": \"Ý\",\"\\\\u00df\": \"ß\", \"\\\\u00e0\": \"à\", \"\\\\u00e1\": \"á\", \"\\\\u00e2\": \"â\", \"\\\\u00e3\": \"ã\", \"\\\\u00e4\": \"ä\", \n",
    "             \"\\\\u00e5\": \"å\", \"\\\\u00e6\": \"æ\", \"\\\\u00e7\": \"ç\", \"\\\\u00e8\": \"è\", \"\\\\u00e9\": \"é\", \"\\\\u00ea\": \"ê\", \"\\\\u00eb\": \"ë\",\n",
    "             \"\\\\u00ec\": \"ì\", \"\\\\u00ed\": \"í\", \"\\\\u00ee\": \"î\", \"\\\\u00ef\": \"ï\", \"\\\\u00f0\": \"ð\", \"\\\\u00f1\": \"ñ\", \"\\\\u00f2\": \"ò\",\n",
    "             \"\\\\u00f3\": \"ó\", \"\\\\u00f4\": \"ô\", \"\\\\u00f5\": \"õ\", \"\\\\u00f6\": \"ö\", \"\\\\u00f8\": \"ø\", \"\\\\u00f9\": \"ù\", \"\\\\u00fa\": \"ú\", \n",
    "             \"\\\\u00fb\": \"û\", \"\\\\u00fc\": \"ü\", \"\\\\u00fd\": \"ý\", \"\\\\u00ff\": \"ÿ\", \"\\\\u00ad\": \"\", \"\\\\u00fe\": \"b\", \"\\\\u0144\": \"ń\", \n",
    "             \"\\\\u0110\": \"D\", \"\\\\u010d\": \"c\", \"\\\\u0107\": \"ć\", \"\\\\u0148\": \"n\", \"\\\\u0119\": \"ę\", \"\\\\u0146\": \"n\", \"\\\\u0141\": \"L\",\n",
    "             \"\\\\u0106\": \"Ć\", \"\\\\u015e\": \"S\", \"\\\\u0131\": \"i\", \"\\\\u010d\": \"č\", \"\\\\u015e\": \"S\", \"\\\\u0160\": \"S\", \"\\\\u0103\": \"a\",\n",
    "             \"\\\\u0161\": \"s\", \"\\\\u010e\": \"D\", \"\\\\u017e\": \"z\", \"\\\\u017d\": \"Z\", \"\\\\u0142\": \"l\", \"\\\\u011f\": \"g\", \"\\\\u0130\": \"I\",\n",
    "             \"\\\\u0131\": \"i\", \"\\\\u0159\": \"r\", \"\\\\u0163\": \"t\", \"\\\\u0219\": \"ș\", \"\\\\u0105\": \"a\", \"\\\\u021b\": \"t\", \"\\\\u014c\": \"O\",\n",
    "             \"\\\\u015f\": \"s\", \"\\\\u014d\": \"o\", \"\\\\u013d\": \"L\", \"\\\\u010c\": \"C\"}\n",
    "\n",
    "def fix_errors_char(column):\n",
    "    for i, j in dict_chars.items():\n",
    "        column = column.apply(lambda x: x.replace(i, j))\n",
    "    return column"
   ]
  },
  {
   "cell_type": "code",
   "execution_count": 4,
   "metadata": {},
   "outputs": [],
   "source": [
    "def extract_characteristics(events):\n",
    "    df= events.copy()\n",
    "    df['teamId_prev']=0; df['playerId_prev']=0\n",
    "    df['teamId_prev'][1:] = df.teamId[0:-1].reset_index(drop=True)\n",
    "    df.fillna(0, inplace=True)\n",
    "    df.teamId_prev = df.teamId_prev.astype(int)\n",
    "    df['playerId_prev'][1:] = df.playerId[0:-1].reset_index(drop=True)\n",
    "    df.fillna(0, inplace=True)\n",
    "    df.playerId_prev = df.playerId_prev.astype(int)\n",
    "    \n",
    "    df['same_team_passes'] = [1 if ((x==y) & (a!=b)) else 0 for x,y,a,b in zip(df.teamId, df.teamId_prev, df.playerId, df.playerId_prev)] \n",
    "    df.drop(['teamId_prev', 'playerId_prev'], axis=1, inplace=True)\n",
    "\n",
    "    # Moving info inside dictionaries inside lists to df columns\n",
    "    df['tags_values'] = [[y['id'] for y in x]  for x in df.tags]\n",
    "    df['X'] = [[x['x'] for x in start] for start in df.positions]\n",
    "    df['Y'] = [[x['y'] for x in end] for end in df.positions]\n",
    "    df['X_start'] = [x[0] for x in df.X]\n",
    "    df['X_end'] = [x[1] if len(x)>1 else 0 for x in df.X]\n",
    "    df['Y_start'] = [y[0] for y in df.Y]\n",
    "    df['Y_end'] = [y[1] if len(y)>1 else 0 for y in df.Y]\n",
    "    df.drop(['X', 'Y'], axis=1, inplace=True)\n",
    "\n",
    "    #PASSING\n",
    "    df['total_passes'] = [1 if x==8 else 0 for x in df.eventId]\n",
    "    df['accurate_passes'] = [1 if ((x==8) & (1801 in y)) else 0 for x,y in zip(df.eventId, df.tags_values)]\n",
    "    df['smart_passes'] = [1 if ((x==1) & (y==86)) else 0 for x,y in zip(df.accurate_passes, df.subEventId)]\n",
    "    df['forward_passes'] = [1 if ((z==1) & ((x2!=0) | (y2!=0)) & (x2>x1)) else 0 for x1,x2,y2,z in zip(df.X_start, df.X_end, df.Y_end, df.accurate_passes)]\n",
    "    df['X_pass'] = [abs(x2-x1) if ((z==1) & ((x2!=0) | (y2!=0))) else 0 for x1,x2,y2,z in zip(df.X_start, df.X_end, df.Y_end, df.accurate_passes)]\n",
    "    df['Y_pass'] = [abs(y2-y1) if ((z==1) & ((x2!=0) | (y2!=0))) else 0 for x2,y1,y2,z in zip(df.X_end, df.Y_start, df.Y_end, df.accurate_passes)]\n",
    "    df['pass_end_z1'] = [1 if ((z==1) & (0<x<50) & (0<y<34)) else 0 for x,y,z in zip(df.X_end, df.Y_end, df.accurate_passes)]\n",
    "    df['pass_end_z2'] = [1 if ((z==1) & (0<x<50) & (34<=y<67)) else 0 for x,y,z in zip(df.X_end, df.Y_end, df.accurate_passes)]\n",
    "    df['pass_end_z3'] = [1 if ((z==1) & (0<x<50) & (67<=y<101)) else 0 for x,y,z in zip(df.X_end, df.Y_end, df.accurate_passes)]\n",
    "    df['pass_end_z4'] = [1 if ((z==1) & (50<=x<75) & (0<y<34)) else 0 for x,y,z in zip(df.X_end, df.Y_end, df.accurate_passes)]\n",
    "    df['pass_end_z5'] = [1 if ((z==1) & (50<=x<75) & (34<=y<67)) else 0 for x,y,z in zip(df.X_end, df.Y_end, df.accurate_passes)]\n",
    "    df['pass_end_z6'] = [1 if ((z==1) & (50<=x<75) & (67<=y<101)) else 0 for x,y,z in zip(df.X_end, df.Y_end, df.accurate_passes)]\n",
    "    df['pass_end_z7'] = [1 if ((z==1) & (75<=x<101) & (0<y<34)) else 0 for x,y,z in zip(df.X_end, df.Y_end, df.accurate_passes)]\n",
    "    df['pass_end_z8'] = [1 if ((z==1) & (75<=x<101) & (34<=y<67)) else 0 for x,y,z in zip(df.X_end, df.Y_end, df.accurate_passes)]\n",
    "    df['pass_end_z9'] = [1 if ((z==1) & (75<=x<101) & (67<=y<101)) else 0 for x,y,z in zip(df.X_end, df.Y_end, df.accurate_passes)]\n",
    "    df['pass_reception_z1'] = [1 if ((z==1) & (0<x<50) & (0<y<34)) else 0 for x,y,z in zip(df.X_start, df.Y_start, df.same_team_passes)]\n",
    "    df['pass_reception_z2'] = [1 if ((z==1) & (0<x<50) & (34<=y<67)) else 0 for x,y,z in zip(df.X_start, df.Y_start, df.same_team_passes)]\n",
    "    df['pass_reception_z3'] = [1 if ((z==1) & (0<x<50) & (67<=y<101)) else 0 for x,y,z in zip(df.X_start, df.Y_start, df.same_team_passes)]\n",
    "    df['pass_reception_z4'] = [1 if ((z==1) & (50<=x<75) & (0<y<34)) else 0 for x,y,z in zip(df.X_start, df.Y_start, df.same_team_passes)]\n",
    "    df['pass_reception_z5'] = [1 if ((z==1) & (50<=x<75) & (34<=y<67)) else 0 for x,y,z in zip(df.X_start, df.Y_start, df.same_team_passes)]\n",
    "    df['pass_reception_z6'] = [1 if ((z==1) & (50<=x<75) & (67<=y<101)) else 0 for x,y,z in zip(df.X_start, df.Y_start, df.same_team_passes)]\n",
    "    df['pass_reception_z7'] = [1 if ((z==1) & (75<=x<101) & (0<y<34)) else 0 for x,y,z in zip(df.X_start, df.Y_start, df.same_team_passes)]\n",
    "    df['pass_reception_z8'] = [1 if ((z==1) & (75<=x<101) & (34<=y<67)) else 0 for x,y,z in zip(df.X_start, df.Y_start, df.same_team_passes)]\n",
    "    df['pass_reception_z9'] = [1 if ((z==1) & (75<=x<101) & (67<=y<101)) else 0 for x,y,z in zip(df.X_start, df.Y_start, df.same_team_passes)]\n",
    "\n",
    "    #SHOTS\n",
    "    df['total_shots'] = [1 if z==10 else 0 for z in df.eventId]\n",
    "    df['shot_z1'] = [1 if ((z==10) & (0<x<86)) else 0 for x,z in zip(df.X_start, df.eventId)]\n",
    "    df['shot_z2'] = [1 if ((z==10) & (x>=86) & (y<43)) else 0 for x,y,z in zip(df.X_start, df.Y_start, df.eventId)]\n",
    "    df['shot_z3'] = [1 if ((z==10) & (x>=86) & (42<y<59)) else 0 for x,y,z in zip(df.X_start, df.Y_start, df.eventId)]\n",
    "    df['shot_z4'] = [1 if ((z==10) & (x>=86) & (58<y<101)) else 0 for x,y,z in zip(df.X_start, df.Y_start, df.eventId)] \n",
    "    df['goal'] = [1 if ((z==10) & (101 in y)) else 0 for z,y in zip(df.eventId, df.tags_values)]\n",
    "    df['shot_wleft'] = [1 if ((z==10) & (401 in y)) else 0 for z,y in zip(df.eventId, df.tags_values)]\n",
    "    df['shot_wright'] = [1 if ((z==10) & (402 in y)) else 0 for z,y in zip(df.eventId, df.tags_values)]\n",
    "    df['shot_whead'] = [1 if ((z==10) & (403 in y)) else 0 for z,y in zip(df.eventId, df.tags_values)]\n",
    "\n",
    "    #DRIBBLES\n",
    "    df['dribble']=  [1 if ((x==11) & (703 in y) & ((503 in y) | (504 in y))) else 0 for x,y in zip(df.subEventId, df.tags_values)]\n",
    "    df['dribble_z1'] = [1 if ((z==1) & (x<50) & (y<34)) else 0 for x,y,z in zip(df.X_start, df.Y_start, df.dribble)]\n",
    "    df['dribble_z2'] = [1 if ((z==1) & (x<50) & (34<=y<67)) else 0 for x,y,z in zip(df.X_start, df.Y_start, df.dribble)]\n",
    "    df['dribble_z3'] = [1 if ((z==1) & (x<50) & (67<=y<101)) else 0 for x,y,z in zip(df.X_start, df.Y_start, df.dribble)]\n",
    "    df['dribble_z4'] = [1 if ((z==1) & (50<=x<75) & (0<=y<34)) else 0 for x,y,z in zip(df.X_start, df.Y_start, df.dribble)]\n",
    "    df['dribble_z5'] = [1 if ((z==1) & (50<=x<75) & (34<=y<67)) else 0 for x,y,z in zip(df.X_start, df.Y_start, df.dribble)]\n",
    "    df['dribble_z6'] = [1 if ((z==1) & (50<=x<75) & (67<=y<101)) else 0 for x,y,z in zip(df.X_start, df.Y_start, df.dribble)]\n",
    "    df['dribble_z7'] = [1 if ((z==1) & (75<=x<101) & (0<=y<34)) else 0 for x,y,z in zip(df.X_start, df.Y_start, df.dribble)]\n",
    "    df['dribble_z8'] = [1 if ((z==1) & (75<=x<101) & (34<=y<67)) else 0 for x,y,z in zip(df.X_start, df.Y_start, df.dribble)]\n",
    "    df['dribble_z9'] = [1 if ((z==1) & (75<=x<101) & (67<=y<101)) else 0 for x,y,z in zip(df.X_start, df.Y_start, df.dribble)]\n",
    "\n",
    "    #CROSSES\n",
    "    df['cross_z1'] = [1 if ((z==80) & (x<93) & (y<45)) else 0 for x,y,z in zip(df.X_start, df.Y_start, df.subEventId)]\n",
    "    df['cross_z2'] = [1 if ((z==80) & (x<93) & (y>55)) else 0 for x,y,z in zip(df.X_start, df.Y_start, df.subEventId)]\n",
    "    df['cross_z3'] = [1 if ((z==80) & (x>=93) & (y<45)) else 0 for x,y,z in zip(df.X_start, df.Y_start, df.subEventId)]\n",
    "    df['cross_z4'] = [1 if ((z==80) & (x>=93) & (y>55)) else 0 for x,y,z in zip(df.X_start, df.Y_start, df.subEventId)]\n",
    "\n",
    "    #DEFENSIVE ACTIONS\n",
    "    df['clearances'] = [1 if x==71 else 0 for x in df.subEventId]\n",
    "    df['interceptions'] = [1 if (1401 in x) else 0 for x in df.tags_values]\n",
    "    df['tackles'] = [1 if ((x==12) & (703 in y)) else 0 for x,y in zip(df.subEventId, df.tags_values)]\n",
    "    df['loose_ball_won'] = [1 if ((x==13) & (703 in y)) else 0 for x,y in zip(df.subEventId, df.tags_values)]\n",
    "    df['final_third_recovery'] = [1 if ((x>60) & ((a==1) | (b==1) | (c==1))) else 0 for x,a,b,c in zip(df.X_start, df.interceptions, df.tackles, df.loose_ball_won)]\n",
    "    df['air_duels'] = [1 if x==10 else 0 for x in df.subEventId]\n",
    "    df['air_duels_won'] = [1 if ((x==1) & (703 in y)) else 0 for x,y in zip(df.air_duels, df.tags_values)]\n",
    "    df['headers'] = [1 if ((x==82) | (y==1) | (z==1)) else 0 for x,y,z in zip(df.subEventId, df.shot_whead, df.air_duels_won)]\n",
    "    df['defense_z1'] = [1 if (((z==12) | (z==13)) & ((x<25) & (y<34))) else 0 for x,y,z in zip(df.X_start, df.Y_start, df.subEventId)]\n",
    "    df['defense_z2'] = [1 if (((z==12) | (z==13)) & ((x<25) & (34<=y<67))) else 0 for x,y,z in zip(df.X_start, df.Y_start, df.subEventId)]\n",
    "    df['defense_z3'] = [1 if (((z==12) | (z==13)) & ((x<25) & (67<=y<101))) else 0 for x,y,z in zip(df.X_start, df.Y_start, df.subEventId)]\n",
    "    df['defense_z4'] = [1 if (((z==12) | (z==13)) & ((25<=x<50) & (y<34))) else 0 for x,y,z in zip(df.X_start, df.Y_start, df.subEventId)]\n",
    "    df['defense_z5'] = [1 if (((z==12) | (z==13)) & ((25<=x<50) & (34<=y<67))) else 0 for x,y,z in zip(df.X_start, df.Y_start, df.subEventId)]\n",
    "    df['defense_z6'] = [1 if (((z==12) | (z==13)) & ((25<=x<50) & (67<=y<101))) else 0 for x,y,z in zip(df.X_start, df.Y_start, df.subEventId)]\n",
    "    df['defense_z7'] = [1 if (((z==12) | (z==13)) & ((50<=x<75) & (y<34))) else 0 for x,y,z in zip(df.X_start, df.Y_start, df.subEventId)]\n",
    "    df['defense_z8'] = [1 if (((z==12) | (z==13)) & ((50<=x<75) & (34<=y<67))) else 0 for x,y,z in zip(df.X_start, df.Y_start, df.subEventId)]\n",
    "    df['defense_z9'] = [1 if (((z==12) | (z==13)) & ((50<=x<75) & (67<=y<101))) else 0 for x,y,z in zip(df.X_start, df.Y_start, df.subEventId)]\n",
    "    df['defense_z10'] = [1 if (((z==12) | (z==13)) & ((75<=x<101) & (y<34))) else 0 for x,y,z in zip(df.X_start, df.Y_start, df.subEventId)]\n",
    "    df['defense_z11'] = [1 if (((z==12) | (z==13)) & ((75<=x<101) & (34<=y<67))) else 0 for x,y,z in zip(df.X_start, df.Y_start, df.subEventId)]\n",
    "    df['defense_z12'] = [1 if (((z==12) | (z==13)) & ((75<=x<101) & (67<=y<101))) else 0 for x,y,z in zip(df.X_start, df.Y_start, df.subEventId)]\n",
    "\n",
    "    #MINUTES PLAYED          \n",
    "    minutes = df.groupby(['playerId', 'matchId'], as_index=False).agg({'goal': 'sum'})\n",
    "    minutes = pd.merge(minutes[['playerId', 'matchId']], playerank[['playerId', 'matchId', 'minutesPlayed']], how='left')\n",
    "    minutes = minutes.groupby('playerId', as_index=False).agg({'minutesPlayed': 'sum'})\n",
    "    \n",
    "    # TOTALS BY PLAYER\n",
    "    players_stats = df.groupby(['playerId'], as_index=False).agg({'goal': 'sum', \n",
    "                                                    'X_pass':['mean', 'std'], \n",
    "                                                    'Y_pass': ['mean', 'std'],\n",
    "                                                    'forward_passes': 'sum', \n",
    "                                                    'accurate_passes': 'sum', \n",
    "                                                    'total_passes': 'sum',\n",
    "                                                    'smart_passes': 'sum',\n",
    "                                                    'pass_end_z1': 'sum', 'pass_end_z2': 'sum', 'pass_end_z3': 'sum',\n",
    "                                                    'pass_end_z4': 'sum', 'pass_end_z5': 'sum', 'pass_end_z6': 'sum',\n",
    "                                                    'pass_end_z7': 'sum', 'pass_end_z8': 'sum', 'pass_end_z9': 'sum',\n",
    "                                                    'pass_reception_z1': 'sum', 'pass_reception_z2': 'sum', 'pass_reception_z3': 'sum',\n",
    "                                                    'pass_reception_z4': 'sum', 'pass_reception_z5': 'sum', 'pass_reception_z6': 'sum',\n",
    "                                                    'pass_reception_z7': 'sum', 'pass_reception_z8': 'sum', 'pass_reception_z9': 'sum',\n",
    "                                                    'dribble_z1': 'sum', 'dribble_z2': 'sum', 'dribble_z3': 'sum',\n",
    "                                                    'dribble_z4': 'sum', 'dribble_z5': 'sum', 'dribble_z6': 'sum',\n",
    "                                                    'dribble_z7': 'sum', 'dribble_z8': 'sum', 'dribble_z9': 'sum',\n",
    "                                                    'cross_z1': 'sum', 'cross_z2': 'sum', 'cross_z3': 'sum', 'cross_z4': 'sum',\n",
    "                                                    'total_shots': 'sum', \n",
    "                                                    'shot_z1': 'sum', 'shot_z2':'sum', 'shot_z3':'sum', 'shot_z4':'sum',\n",
    "                                                    'shot_wleft':'sum','shot_wright':'sum','shot_whead':'sum',\n",
    "                                                    'clearances':'sum', 'interceptions':'sum', 'tackles':'sum',\n",
    "                                                    'loose_ball_won':'sum', 'final_third_recovery':'sum', 'defense_z1':'sum',\n",
    "                                                    'defense_z2':'sum','defense_z3':'sum','defense_z4':'sum',\n",
    "                                                    'defense_z5':'sum','defense_z6':'sum','defense_z7':'sum','defense_z8':'sum',\n",
    "                                                    'defense_z9':'sum','defense_z10':'sum','defense_z11':'sum','defense_z12':'sum',\n",
    "                                                    'headers': 'sum', 'air_duels':'sum', 'air_duels_won':'sum',\n",
    "                                                    }) \n",
    "    #RENAME COLUMNS\n",
    "    players_stats.columns=['playerId', 'goals', 'X_pass_mean', 'X_pass_std', 'Y_pass_mean', 'Y_pass_std', 'forward_passes',\n",
    "                           'acc_passes', 'total_passes', 'smart_passes',\n",
    "                           'pass_end_z1', 'pass_end_z2', 'pass_end_z3', 'pass_end_z4', 'pass_end_z5',\n",
    "                          'pass_end_z6', 'pass_end_z7', 'pass_end_z8', 'pass_end_z9',\n",
    "                           'pass_reception_z1', 'pass_reception_z2', 'pass_reception_z3', 'pass_reception_z4', 'pass_reception_z5',\n",
    "                          'pass_reception_z6', 'pass_reception_z7', 'pass_reception_z8', 'pass_reception_z9',\n",
    "                          'dribble_z1', 'dribble_z2', 'dribble_z3', 'dribble_z4', 'dribble_z5', 'dribble_z6',\n",
    "                          'dribble_z7', 'dribble_z8', 'dribble_z9', 'cross_z1',\n",
    "                          'cross_z2', 'cross_z3', 'cross_z4', 'total_shots', 'shot_z1', 'shot_z2', 'shot_z3','shot_z4', \\\n",
    "                          'shot_wleft', 'shot_wright', 'shot_whead', 'clearances', 'interceptions', 'tackles',\\\n",
    "                          'loose_ball_won', 'final_third_recovery', 'defense_z1', 'defense_z2', 'defense_z3', 'defense_z4', \\\n",
    "                          'defense_z5', 'defense_z6', 'defense_z7', 'defense_z8', 'defense_z9', 'defense_z10', 'defense_z11',\\\n",
    "                          'defense_z12','headers', 'air_duels', 'air_duels_won']\n",
    "    \n",
    "    # MERGE MINUTES PLAYED AND PLAYERS INFO TO DF\n",
    "    players_stats.reset_index(inplace=True, drop=True)\n",
    "    players_stats = pd.merge(players_stats, players[['playerId', 'shortName','team','position','height','weight','foot']], how='left', on='playerId')\n",
    "    players_stats = pd.merge(players_stats, minutes, how='left', on='playerId')\n",
    "    \n",
    "    #COMPUTE CHARACTERISTICS PER 90 MINUTES OR RELATIVE FREQUENCY, ACCORDING TO EACH CASE\n",
    "    players_stats['goals_per90'] = (players_stats['goals'] / players_stats['minutesPlayed']) * 90\n",
    "    players_stats['clearances_per90'] = (players_stats['clearances'] / players_stats['minutesPlayed']) * 90\n",
    "    players_stats['interceptions_per90'] = (players_stats['interceptions'] / players_stats['minutesPlayed']) * 90\n",
    "    players_stats['tackles_per90'] = (players_stats['tackles'] / players_stats['minutesPlayed']) * 90\n",
    "    players_stats['loose_ball_won_per90'] = (players_stats['loose_ball_won'] / players_stats['minutesPlayed']) * 90\n",
    "    players_stats['final_third_recovery_per90'] = (players_stats['final_third_recovery'] / players_stats['minutesPlayed']) * 90\n",
    "    players_stats['forward_passes'] = players_stats['forward_passes'] / players_stats ['total_passes']\n",
    "    players_stats['smart_passes'] = players_stats['smart_passes'] / players_stats ['acc_passes']\n",
    "    players_stats['pass_end_z1'] = players_stats['pass_end_z1'] / players_stats ['acc_passes']\n",
    "    players_stats['pass_end_z2'] = players_stats['pass_end_z2'] / players_stats ['acc_passes']\n",
    "    players_stats['pass_end_z3'] = players_stats['pass_end_z3'] / players_stats ['acc_passes']\n",
    "    players_stats['pass_end_z4'] = players_stats['pass_end_z4'] / players_stats ['acc_passes']\n",
    "    players_stats['pass_end_z5'] = players_stats['pass_end_z5'] / players_stats ['acc_passes']\n",
    "    players_stats['pass_end_z6'] = players_stats['pass_end_z6'] / players_stats ['acc_passes']\n",
    "    players_stats['pass_end_z7'] = players_stats['pass_end_z7'] / players_stats ['acc_passes']\n",
    "    players_stats['pass_end_z8'] = players_stats['pass_end_z8'] / players_stats ['acc_passes']\n",
    "    players_stats['pass_end_z9'] = players_stats['pass_end_z9'] / players_stats ['acc_passes']\n",
    "    players_stats['total_passes_received'] = players_stats['pass_reception_z1'] + players_stats['pass_reception_z2'] + \\\n",
    "    players_stats['pass_reception_z3'] + players_stats['pass_reception_z4'] + players_stats['pass_reception_z5'] + \\\n",
    "    players_stats['pass_reception_z6'] + players_stats['pass_reception_z7'] + players_stats['pass_reception_z8'] + \\\n",
    "    players_stats['pass_reception_z9']\n",
    "   \n",
    "    players_stats['pass_reception_z1'] = players_stats['pass_reception_z1'] / players_stats ['total_passes_received']\n",
    "    players_stats['pass_reception_z2'] = players_stats['pass_reception_z2'] / players_stats ['total_passes_received']\n",
    "    players_stats['pass_reception_z3'] = players_stats['pass_reception_z3'] / players_stats ['total_passes_received']\n",
    "    players_stats['pass_reception_z4'] = players_stats['pass_reception_z4'] / players_stats ['total_passes_received']\n",
    "    players_stats['pass_reception_z5'] = players_stats['pass_reception_z5'] / players_stats ['total_passes_received']\n",
    "    players_stats['pass_reception_z6'] = players_stats['pass_reception_z6'] / players_stats ['total_passes_received']\n",
    "    players_stats['pass_reception_z7'] = players_stats['pass_reception_z7'] / players_stats ['total_passes_received']\n",
    "    players_stats['pass_reception_z8'] = players_stats['pass_reception_z8'] / players_stats ['total_passes_received']\n",
    "    players_stats['pass_reception_z9'] = players_stats['pass_reception_z9'] / players_stats ['total_passes_received']\n",
    "\n",
    "    players_stats['dribble_z1_per90'] = players_stats['dribble_z1'] / players_stats['minutesPlayed'] * 90\n",
    "    players_stats['dribble_z2_per90'] = players_stats['dribble_z2'] / players_stats['minutesPlayed'] * 90\n",
    "    players_stats['dribble_z3_per90'] = players_stats['dribble_z3'] / players_stats['minutesPlayed'] * 90\n",
    "    players_stats['dribble_z4_per90'] = players_stats['dribble_z4'] / players_stats['minutesPlayed'] * 90\n",
    "    players_stats['dribble_z5_per90'] = players_stats['dribble_z5'] / players_stats['minutesPlayed'] * 90\n",
    "    players_stats['dribble_z6_per90'] = players_stats['dribble_z6'] / players_stats['minutesPlayed'] * 90\n",
    "    players_stats['dribble_z7_per90'] = players_stats['dribble_z7'] / players_stats['minutesPlayed'] * 90\n",
    "    players_stats['dribble_z8_per90'] = players_stats['dribble_z8'] / players_stats['minutesPlayed'] * 90\n",
    "    players_stats['dribble_z9_per90'] = players_stats['dribble_z9'] / players_stats['minutesPlayed'] * 90\n",
    "    \n",
    "    players_stats['shot_z1_per90'] = players_stats['shot_z1'] / players_stats['minutesPlayed'] * 90\n",
    "    players_stats['shot_z2_per90'] = players_stats['shot_z2'] / players_stats['minutesPlayed'] * 90\n",
    "    players_stats['shot_z3_per90'] = players_stats['shot_z3'] / players_stats['minutesPlayed'] * 90\n",
    "    players_stats['shot_z4_per90'] = players_stats['shot_z4'] / players_stats['minutesPlayed'] * 90\n",
    "    players_stats['shot_wleft'] = players_stats['shot_wleft'] / players_stats ['total_shots']\n",
    "    players_stats['shot_wright'] = players_stats['shot_wright'] / players_stats ['total_shots']\n",
    "    players_stats['shot_whead'] = players_stats['shot_whead'] / players_stats ['total_shots']\n",
    "    \n",
    "    players_stats['cross_z1_per90'] = players_stats['cross_z1'] / players_stats['minutesPlayed'] * 90\n",
    "    players_stats['cross_z2_per90'] = players_stats['cross_z2'] / players_stats['minutesPlayed'] * 90\n",
    "    players_stats['cross_z3_per90'] = players_stats['cross_z3'] / players_stats['minutesPlayed'] * 90\n",
    "    players_stats['cross_z4_per90'] = players_stats['cross_z4'] / players_stats['minutesPlayed'] * 90\n",
    "    \n",
    "    players_stats['total_defense']=players_stats['defense_z1']+players_stats['defense_z2']+players_stats['defense_z3']+ \\\n",
    "    players_stats['defense_z4']+players_stats['defense_z5']+players_stats['defense_z6']+players_stats['defense_z7']+ \\\n",
    "    players_stats['defense_z8']+players_stats['defense_z9']+players_stats['defense_z10']+players_stats['defense_z11']+ \\\n",
    "    players_stats['defense_z12']\n",
    "    \n",
    "    players_stats['defense_z1'] = players_stats['defense_z1']/players_stats['total_defense']\n",
    "    players_stats['defense_z2'] = players_stats['defense_z2']/players_stats['total_defense']\n",
    "    players_stats['defense_z3'] = players_stats['defense_z3']/players_stats['total_defense']\n",
    "    players_stats['defense_z4'] = players_stats['defense_z4']/players_stats['total_defense']\n",
    "    players_stats['defense_z5'] = players_stats['defense_z5']/players_stats['total_defense']\n",
    "    players_stats['defense_z6'] = players_stats['defense_z6']/players_stats['total_defense']\n",
    "    players_stats['defense_z7'] = players_stats['defense_z7']/players_stats['total_defense']\n",
    "    players_stats['defense_z8'] = players_stats['defense_z8']/players_stats['total_defense']\n",
    "    players_stats['defense_z9'] = players_stats['defense_z9']/players_stats['total_defense']\n",
    "    players_stats['defense_z10'] = players_stats['defense_z10']/players_stats['total_defense']\n",
    "    players_stats['defense_z11'] = players_stats['defense_z11']/players_stats['total_defense']\n",
    "    players_stats['defense_z12'] = players_stats['defense_z12']/players_stats['total_defense']\n",
    "    \n",
    "    players_stats['air_success']=players_stats['air_duels_won']/players_stats['air_duels']\n",
    "    players_stats['headers_per90'] = (players_stats['headers'] / players_stats['minutesPlayed']) * 90\n",
    "\n",
    "    # REORDER DATAFRAME AND FINISH\n",
    "    players_stats = players_stats[['playerId', 'shortName', 'team', 'position', 'height', 'foot', 'minutesPlayed',\n",
    "                                  'goals_per90', 'pass_reception_z1', 'pass_reception_z2', 'pass_reception_z3',\n",
    "                                  'pass_reception_z4', 'pass_reception_z5', 'pass_reception_z6', 'pass_reception_z7',\n",
    "                                  'pass_reception_z8', 'pass_reception_z9', 'defense_z1', 'defense_z2', 'defense_z3',\n",
    "                                  'defense_z4', 'defense_z5', 'defense_z6', 'defense_z7', 'defense_z8', 'defense_z9',\n",
    "                                  'defense_z10', 'defense_z11', 'defense_z12', 'X_pass_mean', 'X_pass_std', 'Y_pass_mean',\n",
    "                                  'Y_pass_std', 'forward_passes', 'smart_passes', 'pass_end_z1', 'pass_end_z2', \n",
    "                                  'pass_end_z3', 'pass_end_z4', 'pass_end_z5', 'pass_end_z6', 'pass_end_z7', \n",
    "                                  'pass_end_z8', 'pass_end_z9', 'dribble_z1_per90', 'dribble_z2_per90',\n",
    "                                  'dribble_z3_per90', 'dribble_z4_per90', 'dribble_z5_per90', 'dribble_z6_per90',\n",
    "                                  'dribble_z7_per90', 'dribble_z8_per90', 'dribble_z9_per90', 'cross_z1_per90',\n",
    "                                  'cross_z2_per90', 'cross_z3_per90', 'cross_z4_per90', 'shot_z1_per90', 'shot_z2_per90',\n",
    "                                  'shot_z3_per90', 'shot_z4_per90', 'shot_wleft', 'shot_wright', 'shot_whead',\n",
    "                                  'clearances_per90', 'interceptions_per90', 'tackles_per90', 'loose_ball_won_per90',\n",
    "                                  'final_third_recovery_per90', 'headers_per90', 'air_success']]\n",
    "    players_stats.fillna(0,inplace=True)\n",
    "    players_stats = players_stats[players_stats['minutesPlayed']!=0].reset_index(drop=True)\n",
    "    return players_stats\n"
   ]
  },
  {
   "cell_type": "code",
   "execution_count": 5,
   "metadata": {},
   "outputs": [],
   "source": [
    "def extract_player_motifs(events):\n",
    "    # LOAD IN BATCHES TO REDUCE MEMORY DEMANDS\n",
    "    c=0\n",
    "    batch=100000\n",
    "    total=pd.DataFrame()\n",
    "    while c<len(events):\n",
    "        if (len(events)-c) >= batch:\n",
    "            df = events.iloc[c:c+batch,:]\n",
    "        else:\n",
    "            df = events.iloc[c:,:]\n",
    "            \n",
    "        df['teamId_next']=0; df['playerId_next']=0; df['matchId_next']=0; df['matchPeriod_next']=0; df['eventId_next']=0\n",
    "        df['teamId_next'][:-1] = df.teamId[1:].reset_index(drop=True)\n",
    "        df.teamId_next.fillna(0, inplace=True)\n",
    "        df.teamId_next = df.teamId_next.astype(int)\n",
    "        df['playerId_next'][:-1] = df.playerId[1:].reset_index(drop=True)\n",
    "        df.playerId_next.fillna(0, inplace=True)\n",
    "        df.playerId_next = df.playerId_next.astype(int)\n",
    "        df['matchId_next'][:-1] = df.matchId[1:].reset_index(drop=True)\n",
    "        df.matchId_next.fillna(0, inplace=True)\n",
    "        df.matchId_next = df.matchId_next.astype(int)\n",
    "        df['matchPeriod_next'][:-1] = df.matchPeriod[1:].reset_index(drop=True)\n",
    "        df.matchPeriod_next.fillna(0, inplace=True)\n",
    "        df['eventId_next'][:-1] = df.eventId[1:].reset_index(drop=True)\n",
    "        df.eventId_next.fillna(0, inplace=True)\n",
    "        df.eventId_next = df.eventId_next.astype(int)\n",
    "        \n",
    "        # Moving info inside dictionaries inside lists to df columns\n",
    "        df['tags_values'] = [[y['id'] for y in x]  for x in df.tags]\n",
    "    \n",
    "        # Remove rows we don't need\n",
    "        df= df[((df.matchPeriod!='P') & \n",
    "                (df.eventId !=4) & \n",
    "                (df.eventId !=6) & \n",
    "                (df.eventId !=9) & \n",
    "                (df.subEventId !=70) & \n",
    "                (df.subEventId !=72)\n",
    "                )]\n",
    "        df['remove'] = [1 if ((x==1) & ((701 in y) | (702 in y))) else 0 for x,y in zip(df.eventId, df.tags_values)]\n",
    "        df = df[df.remove==0].reset_index(drop=True)\n",
    "        \n",
    "        df['end_play'] = [1 if ((a!=b) | (c!=d) | (e!=f) | (x==10) | (y==3)) else 0 for a,b,c,d,e,f,x,y in \\\n",
    "                          zip(df.matchId, df.matchId_next, df.matchPeriod, df.matchPeriod_next, df.teamId, df.teamId_next, df.eventId, df.eventId_next)]\n",
    "        \n",
    "        # NUMBER EACH PASSING SEQUENCE (PLAY_NUM)\n",
    "        df['play_num']=1\n",
    "        for i in tqdm(range(0,len(df))):\n",
    "            if i==0: continue\n",
    "            if df.loc[i, \"matchId\"] != df.loc[i-1, \"matchId\"]:\n",
    "                df.at[i, \"play_num\"]=1\n",
    "            else:\n",
    "                if df.loc[i-1, \"end_play\"]==1:\n",
    "                    df.at[i, \"play_num\"] = df.loc[i-1, \"play_num\"]+1\n",
    "                else:\n",
    "                    df.at[i, \"play_num\"] = df.loc[i-1, \"play_num\"]\n",
    "\n",
    "        # NOW THAT PASSING SEQUENCES ARE DEFINED, LEAVE ONLY PASSES AND SHOTS IN DF\n",
    "        passes = df[(df['eventId']==8) | (df['eventId']==10)].reset_index(drop=True)\n",
    "        \n",
    "        # Extracting Network Motifs (sequences of 4 consecutive passes)\n",
    "        #motif ABCD\n",
    "        passes['ABCD']=0; passes['BACD']=0; passes['BCAD']=0; passes['BCDA']=0 \n",
    "        #motif ABAB\n",
    "        passes['ABAB']=0; passes['BABA']=0\n",
    "        #motif ABAC\n",
    "        passes['ABAC']=0; passes['BABC']=0; passes['BCBA']=0\n",
    "        #motif ABCA\n",
    "        passes['ABCA']=0; passes['BACB']=0; passes['BCAB']=0  #23\n",
    "        #motif ABCB\n",
    "        passes['ABCB']=0; passes['BACA']=0; passes['BCAC']=0  #26\n",
    "        \n",
    "        for i in tqdm(range(0,(len(passes)-3))):\n",
    "            if ((passes.loc[i, \"play_num\"]==passes.loc[i+1,\"play_num\"]) & (passes.loc[i,\"play_num\"]==passes.loc[i+2,\"play_num\"]) & (passes.loc[i,\"play_num\"]==passes.loc[i+3,\"play_num\"])):\n",
    "                if ((passes.loc[i, \"teamId\"]==passes.loc[i+1,\"teamId\"]==passes.loc[i+2,\"teamId\"]==passes.loc[i+3,\"teamId\"])):\n",
    "                    if ((passes.loc[i, \"eventId\"]==passes.loc[i+1, \"eventId\"]) & (passes.loc[i+1, \"eventId\"]==passes.loc[i+2, \"eventId\"]) & (passes.loc[i+2, \"eventId\"]==8)):\n",
    "                        if ((passes.loc[i,\"playerId\"] != passes.loc[i+1,\"playerId\"]) and\\\n",
    "                            (passes.loc[i,\"playerId\"]!= passes.loc[i+2,\"playerId\"]) and\\\n",
    "                            (passes.loc[i,\"playerId\"]!= passes.loc[i+3, \"playerId\"]) and\\\n",
    "                            (passes.loc[i+1,\"playerId\"]!=passes.loc[i+2,\"playerId\"]) and\\\n",
    "                            (passes.loc[i+2,\"playerId\"]!=passes.loc[i+3,\"playerId\"]) and\\\n",
    "                            (passes.loc[i+1,\"playerId\"]!=passes.loc[i+3,\"playerId\"])):\n",
    "                            passes.at[i,\"ABCD\"]=1; passes.at[i+1,\"BACD\"]=1; passes.at[i+2,\"BCAD\"]=1; passes.at[i+3,\"BCDA\"]=1\n",
    "                        elif passes.loc[i, \"playerId\"]==passes.loc[i+2, \"playerId\"]:\n",
    "                            if passes.loc[i+1,\"playerId\"]==passes.loc[i+3,\"playerId\"]:\n",
    "                                passes.at[i,\"ABAB\"]=1; passes.at[i+1,\"BABA\"]=1\n",
    "                            else:\n",
    "                                passes.at[i,\"ABAC\"]=1; passes.at[i+1,\"BABC\"]=1; passes.at[i+3,\"BCBA\"]=1\n",
    "                        elif passes.loc[i,\"playerId\"]==passes.loc[i+3,\"playerId\"]:\n",
    "                            passes.at[i, \"ABCA\"]=1; passes.at[i+1, \"BACB\"]=1; passes.at[i+2,\"BCAB\"]=1\n",
    "                        elif passes.loc[i+1,\"playerId\"]==passes.loc[i+3,\"playerId\"]:\n",
    "                            passes.at[i, \"ABCB\"]=1; passes.at[i+1, \"BACA\"]=1; passes.at[i+2, \"BCAC\"]=1\n",
    "        total = total.append(passes)\n",
    "        c=c+batch\n",
    "\n",
    "    total = total[['playerId', 'ABCD','BACD','BCAD','BCDA','ABAB','BABA','ABAC','BABC','BCBA','ABCA',\\\n",
    "                                  'BACB', 'BCAB','ABCB','BACA','BCAC']]\n",
    "                                                    \n",
    "    player_motifs = total.groupby('playerId', as_index=False).sum()\n",
    "    return player_motifs"
   ]
  },
  {
   "cell_type": "code",
   "execution_count": 6,
   "metadata": {},
   "outputs": [],
   "source": [
    "def extract_flow_centrality(data):\n",
    "    df=data.copy()\n",
    "    df['teamId_next']=0; df['playerId_next']=0; df['matchId_next']=0; df['matchPeriod_next']=0; df['eventId_next']=0\n",
    "    df['teamId_next'][:-1] = df.teamId[1:].reset_index(drop=True)\n",
    "    df.teamId_next.fillna(0, inplace=True)\n",
    "    df.teamId_next = df.teamId_next.astype(int)\n",
    "    df['playerId_next'][:-1] = df.playerId[1:].reset_index(drop=True)\n",
    "    df.playerId_next.fillna(0, inplace=True)\n",
    "    df.playerId_next = df.playerId_next.astype(int)\n",
    "    df['matchId_next'][:-1] = df.matchId[1:].reset_index(drop=True)\n",
    "    df.matchId_next.fillna(0, inplace=True)\n",
    "    df.matchId_next = df.matchId_next.astype(int)\n",
    "    df['matchPeriod_next'][:-1] = df.matchPeriod[1:].reset_index(drop=True)\n",
    "    df.matchPeriod_next.fillna(0, inplace=True)\n",
    "    df['eventId_next'][:-1] = df.eventId[1:].reset_index(drop=True)\n",
    "    df.eventId_next.fillna(0, inplace=True)\n",
    "    df.eventId_next = df.eventId_next.astype(int)\n",
    "\n",
    "    # Moving info inside dictionaries inside lists to df columns\n",
    "    df['tags_values'] = [[y['id'] for y in x]  for x in df.tags]\n",
    "\n",
    "    # Remove rows we don't need\n",
    "    df= df[((df.matchPeriod!='P') & \n",
    "            (df.eventId !=4) & \n",
    "            (df.eventId !=6) & \n",
    "            (df.eventId !=9) & \n",
    "            (df.subEventId !=70) & \n",
    "            (df.subEventId !=72)\n",
    "            )]\n",
    "    df['remove'] = [1 if ((x==1) & ((701 in y) | (702 in y))) else 0 for x,y in zip(df.eventId, df.tags_values)]\n",
    "    df = df[df.remove==0].reset_index(drop=True)\n",
    "\n",
    "    df['end_play'] = [1 if ((a!=b) | (c!=d) | (e!=f) | (x==10) | (y==3)) else 0 for a,b,c,d,e,f,x,y in \\\n",
    "                      zip(df.matchId, df.matchId_next, df.matchPeriod, df.matchPeriod_next, df.teamId, df.teamId_next, df.eventId, df.eventId_next)]\n",
    "\n",
    "    # NUMBER EACH PASSING SEQUENCE (PLAY_NUM)\n",
    "    df['play_num']=1\n",
    "    for i in tqdm(range(0,len(df))):\n",
    "        if i==0: continue\n",
    "        if df.loc[i, \"matchId\"] != df.loc[i-1, \"matchId\"]:\n",
    "            df.at[i, \"play_num\"]=1\n",
    "        else:\n",
    "            if df.loc[i-1, \"end_play\"]==1:\n",
    "                df.at[i, \"play_num\"] = df.loc[i-1, \"play_num\"]+1\n",
    "            else:\n",
    "                df.at[i, \"play_num\"] = df.loc[i-1, \"play_num\"]\n",
    "\n",
    "    # NOW THAT PASSING SEQUENCES ARE DEFINED, LEAVE ONLY PASSES AND SHOTS IN DF\n",
    "    passes = df[(df['eventId']==8) | (df['eventId']==10)].reset_index(drop=True)\n",
    "\n",
    "    # WE COUNT THE NUMBER OF PLAYS (N_PASSES>3) PER TEAM ON THE ENTIRE DATA\n",
    "    by_play = passes.groupby(['matchId', 'teamId', 'play_num'], as_index=False)['eventId'].count().rename(columns={'eventId': 'n_passes'})\n",
    "    by_play = by_play[by_play.n_passes>=4].reset_index(drop=True)\n",
    "    by_team = by_play.groupby(['teamId', 'matchId'], as_index=False)['play_num'].count().rename(columns={'play_num': 'n_plays'})\n",
    "    by_team = by_team.groupby('teamId', as_index=False)['n_plays'].sum()\n",
    "\n",
    "    #NOW WE COUNT BY PLAYER\n",
    "    group_plays = passes.groupby(['matchId', 'play_num'], as_index=False)['eventId'].count().rename(columns={'eventId': 'num_passes'})\n",
    "    passes = pd.merge(passes, group_plays[['matchId', 'play_num', 'num_passes']], how='left', on=['matchId', 'play_num'])\n",
    "    passes_filtered = passes[passes['num_passes']>3] #plays with less than 4 passes are not possession plays\n",
    "    passes_filtered.drop_duplicates(['matchId', 'play_num', 'playerId'], inplace=True) #players count only once per play even if they made more\n",
    "    by_player_match = passes_filtered.groupby(['matchId', 'playerId', 'teamId'], as_index=False)['play_num'].count().rename(columns={'play_num': 'num_plays_player'})\n",
    "    by_player = by_player_match.groupby(['playerId', 'teamId'], as_index=False)['num_plays_player'].sum()\n",
    "\n",
    "    # WE HAVE ONE DATAFRAME WITH TOTAL PLAYS PER TEAM AND ANOTHER ONE WITH TOTAL PLAYS PER PLAYER.\n",
    "    # WE MERGE BOTH AND FLOW CENTRALITY IS N_PLAYS_PLAYER / N_PLAYS_TEAM\n",
    "    fc = by_player.merge(by_team, on='teamId', how='left')\n",
    "\n",
    "    # MINUTES PLAYED\n",
    "    minutes = playerank[playerank.matchId.isin(list(df.matchId.unique()))].reset_index(drop=True)\n",
    "    minutes = minutes.groupby('playerId', as_index=False)['minutesPlayed'].sum().reset_index(drop=True)\n",
    "\n",
    "    # WE ADD TOTAL MINUTES PLAYED PER PLAYER\n",
    "    fc = fc.merge(minutes, on='playerId', how='left')\n",
    "    fc = fc[~fc.minutesPlayed.isna()]\n",
    "\n",
    "    # WE NORMALIZE TOTAL TEAM PLAYS BY NUM MINUTES PLAYED BY THE PLAYER\n",
    "    fc['n_plays_team_norm'] = fc['n_plays'] * fc['minutesPlayed'] / fc['minutesPlayed'].max()\n",
    "    fc['flow_centrality'] = fc['num_plays_player'] / fc['n_plays_team_norm']\n",
    "    fc.flow_centrality = [1 if x>1 else x for x in fc.flow_centrality]\n",
    "    fc = fc[['playerId', 'flow_centrality']]\n",
    "    return fc"
   ]
  },
  {
   "cell_type": "markdown",
   "metadata": {},
   "source": [
    "## 1. Load data from WyScout and fix character encoding errors"
   ]
  },
  {
   "cell_type": "code",
   "execution_count": 7,
   "metadata": {},
   "outputs": [],
   "source": [
    "# Load data: WyScout raw files belonging to Seasons 2017-18 of these leagues should be in the same folder as the notebook\n",
    "events, matches, players, competitions, teams = load_data(nations=['Spain', 'Italy', 'France', 'Germany', 'England'])"
   ]
  },
  {
   "cell_type": "code",
   "execution_count": 8,
   "metadata": {},
   "outputs": [],
   "source": [
    "players['shortName'] = fix_errors_char(players['shortName'])\n",
    "players['lastName'] = fix_errors_char(players['lastName'])\n",
    "players['firstName'] = fix_errors_char(players['firstName'])\n",
    "teams['name'] = fix_errors_char(teams['name'])"
   ]
  },
  {
   "cell_type": "code",
   "execution_count": 9,
   "metadata": {},
   "outputs": [],
   "source": [
    "players.rename(columns={'wyId': 'playerId', 'currentTeamId': 'teamId'}, inplace=True)\n",
    "teams.rename(columns={'wyId': 'teamId', 'name': 'team'}, inplace=True)\n",
    "players = pd.merge(players,teams[['teamId', 'team']], how='left', on='teamId')"
   ]
  },
  {
   "cell_type": "code",
   "execution_count": 10,
   "metadata": {},
   "outputs": [],
   "source": [
    "players['position'] = [x['name'] for x in players.role]"
   ]
  },
  {
   "cell_type": "code",
   "execution_count": 11,
   "metadata": {},
   "outputs": [],
   "source": [
    "playerank = pd.read_json('playerank.json')"
   ]
  },
  {
   "cell_type": "code",
   "execution_count": 12,
   "metadata": {},
   "outputs": [
    {
     "data": {
      "text/html": [
       "<div>\n",
       "<style scoped>\n",
       "    .dataframe tbody tr th:only-of-type {\n",
       "        vertical-align: middle;\n",
       "    }\n",
       "\n",
       "    .dataframe tbody tr th {\n",
       "        vertical-align: top;\n",
       "    }\n",
       "\n",
       "    .dataframe thead th {\n",
       "        text-align: right;\n",
       "    }\n",
       "</style>\n",
       "<table border=\"1\" class=\"dataframe\">\n",
       "  <thead>\n",
       "    <tr style=\"text-align: right;\">\n",
       "      <th></th>\n",
       "      <th>eventId</th>\n",
       "      <th>eventName</th>\n",
       "      <th>eventSec</th>\n",
       "      <th>id</th>\n",
       "      <th>matchId</th>\n",
       "      <th>matchPeriod</th>\n",
       "      <th>playerId</th>\n",
       "      <th>positions</th>\n",
       "      <th>subEventId</th>\n",
       "      <th>subEventName</th>\n",
       "      <th>tags</th>\n",
       "      <th>teamId</th>\n",
       "    </tr>\n",
       "  </thead>\n",
       "  <tbody>\n",
       "    <tr>\n",
       "      <th>0</th>\n",
       "      <td>8</td>\n",
       "      <td>Pass</td>\n",
       "      <td>2.994582</td>\n",
       "      <td>180864419</td>\n",
       "      <td>2565548</td>\n",
       "      <td>1H</td>\n",
       "      <td>3542</td>\n",
       "      <td>[{'y': 61, 'x': 37}, {'y': 50, 'x': 50}]</td>\n",
       "      <td>85</td>\n",
       "      <td>Simple pass</td>\n",
       "      <td>[{'id': 1801}]</td>\n",
       "      <td>682</td>\n",
       "    </tr>\n",
       "  </tbody>\n",
       "</table>\n",
       "</div>"
      ],
      "text/plain": [
       "   eventId eventName  eventSec         id  matchId matchPeriod  playerId  \\\n",
       "0        8      Pass  2.994582  180864419  2565548          1H      3542   \n",
       "\n",
       "                                  positions subEventId subEventName  \\\n",
       "0  [{'y': 61, 'x': 37}, {'y': 50, 'x': 50}]         85  Simple pass   \n",
       "\n",
       "             tags  teamId  \n",
       "0  [{'id': 1801}]     682  "
      ]
     },
     "execution_count": 12,
     "metadata": {},
     "output_type": "execute_result"
    }
   ],
   "source": [
    "events.head(1)"
   ]
  },
  {
   "cell_type": "code",
   "execution_count": 13,
   "metadata": {},
   "outputs": [],
   "source": [
    "matches.rename(columns={'wyId': 'matchId'}, inplace=True)"
   ]
  },
  {
   "cell_type": "code",
   "execution_count": 14,
   "metadata": {},
   "outputs": [],
   "source": [
    "events = events.merge(matches[['gameweek', 'competitionId', 'matchId']], on='matchId', how='left')"
   ]
  },
  {
   "cell_type": "markdown",
   "metadata": {},
   "source": [
    "## 2. Prepare H1 & H2 data sets for Distance2Clone calculation"
   ]
  },
  {
   "cell_type": "code",
   "execution_count": 234,
   "metadata": {},
   "outputs": [],
   "source": [
    "# IF WE DIVIDE FIRST AND SECOND HALF OF THE SEASON:\n",
    "eventsH1 = pd.concat([events[(events.gameweek<=19) & (events.competitionId!=426)], \n",
    "                     events[(events.gameweek<=17) & (events.competitionId==426)]]).reset_index(drop=True)\n",
    "\n",
    "eventsH2 = pd.concat([events[(events.gameweek>19) & (events.competitionId!=426)], \n",
    "                     events[(events.gameweek>17) & (events.competitionId==426)]]).reset_index(drop=True)"
   ]
  },
  {
   "cell_type": "code",
   "execution_count": null,
   "metadata": {},
   "outputs": [],
   "source": [
    "# IF WE DIVIDE RANDOMLY:\n",
    "matches_H2 = matches.groupby('competitionId', group_keys=False).apply(lambda x: x.sample(min(len(x), 190)))\n",
    "all_matches = matches['matchId'].unique()\n",
    "matches_H2 = np.array(matches_H2.matchId)\n",
    "matches_H1 = np.setdiff1d(all_matches, matches_H2)\n",
    "\n",
    "eventsH1 = events[events['matchId'].isin(matches_H1)]\n",
    "eventsH2 = events[events['matchId'].isin(matches_H2)]"
   ]
  },
  {
   "cell_type": "markdown",
   "metadata": {},
   "source": [
    "## 3. Extract all characteristics and merge to obtain one vector per player"
   ]
  },
  {
   "cell_type": "markdown",
   "metadata": {},
   "source": [
    "We need to do this 3 times: One for our entire data set, so that we have 1 unique vector per player that we later use for searching for similar players to Player X. And two for each random half of the data. We will need these two halves later for computing the Distance2Clone of every player. That is, how similar he is to himself at other matches. We use this metric as validation to check whether our model works well."
   ]
  },
  {
   "cell_type": "code",
   "execution_count": 104,
   "metadata": {},
   "outputs": [],
   "source": [
    "players_stats_H1 = extract_characteristics(eventsH1)"
   ]
  },
  {
   "cell_type": "code",
   "execution_count": 105,
   "metadata": {},
   "outputs": [],
   "source": [
    "players_stats_H2 = extract_characteristics(eventsH2)"
   ]
  },
  {
   "cell_type": "code",
   "execution_count": 267,
   "metadata": {},
   "outputs": [],
   "source": [
    "players_stats_full = extract_characteristics(events)"
   ]
  },
  {
   "cell_type": "markdown",
   "metadata": {},
   "source": [
    "We now have 63 of the 79 elements of our players vectors computed. We still need the 15 network motifs (passing sequences patterns) and Flow Centrality. We have to compute these with different functions after creating networks for each match."
   ]
  },
  {
   "cell_type": "code",
   "execution_count": 132,
   "metadata": {},
   "outputs": [
    {
     "data": {
      "application/vnd.jupyter.widget-view+json": {
       "model_id": "15d41494419142699fb428c2abf036a3",
       "version_major": 2,
       "version_minor": 0
      },
      "text/plain": [
       "HBox(children=(FloatProgress(value=0.0, max=77099.0), HTML(value='')))"
      ]
     },
     "metadata": {},
     "output_type": "display_data"
    },
    {
     "name": "stdout",
     "output_type": "stream",
     "text": [
      "\n"
     ]
    },
    {
     "data": {
      "application/vnd.jupyter.widget-view+json": {
       "model_id": "7264862746fd4138b8d7dba6d40f534f",
       "version_major": 2,
       "version_minor": 0
      },
      "text/plain": [
       "HBox(children=(FloatProgress(value=0.0, max=52667.0), HTML(value='')))"
      ]
     },
     "metadata": {},
     "output_type": "display_data"
    },
    {
     "name": "stdout",
     "output_type": "stream",
     "text": [
      "\n"
     ]
    },
    {
     "data": {
      "application/vnd.jupyter.widget-view+json": {
       "model_id": "ba10daa4166a4ab0b676744d75d8fc8c",
       "version_major": 2,
       "version_minor": 0
      },
      "text/plain": [
       "HBox(children=(FloatProgress(value=0.0, max=76231.0), HTML(value='')))"
      ]
     },
     "metadata": {},
     "output_type": "display_data"
    },
    {
     "name": "stdout",
     "output_type": "stream",
     "text": [
      "\n"
     ]
    },
    {
     "data": {
      "application/vnd.jupyter.widget-view+json": {
       "model_id": "3f92180405ed41cfab24300863d9d7fd",
       "version_major": 2,
       "version_minor": 0
      },
      "text/plain": [
       "HBox(children=(FloatProgress(value=0.0, max=51902.0), HTML(value='')))"
      ]
     },
     "metadata": {},
     "output_type": "display_data"
    },
    {
     "name": "stdout",
     "output_type": "stream",
     "text": [
      "\n"
     ]
    },
    {
     "data": {
      "application/vnd.jupyter.widget-view+json": {
       "model_id": "1279d366df774223b31daa9318b71f4f",
       "version_major": 2,
       "version_minor": 0
      },
      "text/plain": [
       "HBox(children=(FloatProgress(value=0.0, max=76304.0), HTML(value='')))"
      ]
     },
     "metadata": {},
     "output_type": "display_data"
    },
    {
     "name": "stdout",
     "output_type": "stream",
     "text": [
      "\n"
     ]
    },
    {
     "data": {
      "application/vnd.jupyter.widget-view+json": {
       "model_id": "30455663fd2d4384a77926cfb03c6dba",
       "version_major": 2,
       "version_minor": 0
      },
      "text/plain": [
       "HBox(children=(FloatProgress(value=0.0, max=51891.0), HTML(value='')))"
      ]
     },
     "metadata": {},
     "output_type": "display_data"
    },
    {
     "name": "stdout",
     "output_type": "stream",
     "text": [
      "\n"
     ]
    },
    {
     "data": {
      "application/vnd.jupyter.widget-view+json": {
       "model_id": "6a2b7c7933da4d78adf69c52c474e70f",
       "version_major": 2,
       "version_minor": 0
      },
      "text/plain": [
       "HBox(children=(FloatProgress(value=0.0, max=77820.0), HTML(value='')))"
      ]
     },
     "metadata": {},
     "output_type": "display_data"
    },
    {
     "name": "stdout",
     "output_type": "stream",
     "text": [
      "\n"
     ]
    },
    {
     "data": {
      "application/vnd.jupyter.widget-view+json": {
       "model_id": "93c6e5017a4a4d0fa017a1d758166c58",
       "version_major": 2,
       "version_minor": 0
      },
      "text/plain": [
       "HBox(children=(FloatProgress(value=0.0, max=54938.0), HTML(value='')))"
      ]
     },
     "metadata": {},
     "output_type": "display_data"
    },
    {
     "name": "stdout",
     "output_type": "stream",
     "text": [
      "\n"
     ]
    },
    {
     "data": {
      "application/vnd.jupyter.widget-view+json": {
       "model_id": "e62a573ea5ee46e0834722eb02c03cd2",
       "version_major": 2,
       "version_minor": 0
      },
      "text/plain": [
       "HBox(children=(FloatProgress(value=0.0, max=77225.0), HTML(value='')))"
      ]
     },
     "metadata": {},
     "output_type": "display_data"
    },
    {
     "name": "stdout",
     "output_type": "stream",
     "text": [
      "\n"
     ]
    },
    {
     "data": {
      "application/vnd.jupyter.widget-view+json": {
       "model_id": "63f2f008f29f490c8d6c74f37cd3dea3",
       "version_major": 2,
       "version_minor": 0
      },
      "text/plain": [
       "HBox(children=(FloatProgress(value=0.0, max=54757.0), HTML(value='')))"
      ]
     },
     "metadata": {},
     "output_type": "display_data"
    },
    {
     "name": "stdout",
     "output_type": "stream",
     "text": [
      "\n"
     ]
    },
    {
     "data": {
      "application/vnd.jupyter.widget-view+json": {
       "model_id": "996e903962fd416aa0fd5072d7d3d04b",
       "version_major": 2,
       "version_minor": 0
      },
      "text/plain": [
       "HBox(children=(FloatProgress(value=0.0, max=76373.0), HTML(value='')))"
      ]
     },
     "metadata": {},
     "output_type": "display_data"
    },
    {
     "name": "stdout",
     "output_type": "stream",
     "text": [
      "\n"
     ]
    },
    {
     "data": {
      "application/vnd.jupyter.widget-view+json": {
       "model_id": "31026bfff1d94c2e93140d030e82dcc5",
       "version_major": 2,
       "version_minor": 0
      },
      "text/plain": [
       "HBox(children=(FloatProgress(value=0.0, max=52630.0), HTML(value='')))"
      ]
     },
     "metadata": {},
     "output_type": "display_data"
    },
    {
     "name": "stdout",
     "output_type": "stream",
     "text": [
      "\n"
     ]
    },
    {
     "data": {
      "application/vnd.jupyter.widget-view+json": {
       "model_id": "87d8503cba8f494bbc30353e2c39ced5",
       "version_major": 2,
       "version_minor": 0
      },
      "text/plain": [
       "HBox(children=(FloatProgress(value=0.0, max=76523.0), HTML(value='')))"
      ]
     },
     "metadata": {},
     "output_type": "display_data"
    },
    {
     "name": "stdout",
     "output_type": "stream",
     "text": [
      "\n"
     ]
    },
    {
     "data": {
      "application/vnd.jupyter.widget-view+json": {
       "model_id": "c7c9bcbcfc2c497ca99a2c3e05164e8e",
       "version_major": 2,
       "version_minor": 0
      },
      "text/plain": [
       "HBox(children=(FloatProgress(value=0.0, max=52372.0), HTML(value='')))"
      ]
     },
     "metadata": {},
     "output_type": "display_data"
    },
    {
     "name": "stdout",
     "output_type": "stream",
     "text": [
      "\n"
     ]
    },
    {
     "data": {
      "application/vnd.jupyter.widget-view+json": {
       "model_id": "b43c763fb8dd477f8baa3a322bc09f5d",
       "version_major": 2,
       "version_minor": 0
      },
      "text/plain": [
       "HBox(children=(FloatProgress(value=0.0, max=75981.0), HTML(value='')))"
      ]
     },
     "metadata": {},
     "output_type": "display_data"
    },
    {
     "name": "stdout",
     "output_type": "stream",
     "text": [
      "\n"
     ]
    },
    {
     "data": {
      "application/vnd.jupyter.widget-view+json": {
       "model_id": "ca44f98d051e4a66bc1e9efbc3b09ac1",
       "version_major": 2,
       "version_minor": 0
      },
      "text/plain": [
       "HBox(children=(FloatProgress(value=0.0, max=51059.0), HTML(value='')))"
      ]
     },
     "metadata": {},
     "output_type": "display_data"
    },
    {
     "name": "stdout",
     "output_type": "stream",
     "text": [
      "\n"
     ]
    },
    {
     "data": {
      "application/vnd.jupyter.widget-view+json": {
       "model_id": "0b210f04c0c84944b3eba2a7403e122a",
       "version_major": 2,
       "version_minor": 0
      },
      "text/plain": [
       "HBox(children=(FloatProgress(value=0.0, max=75798.0), HTML(value='')))"
      ]
     },
     "metadata": {},
     "output_type": "display_data"
    },
    {
     "name": "stdout",
     "output_type": "stream",
     "text": [
      "\n"
     ]
    },
    {
     "data": {
      "application/vnd.jupyter.widget-view+json": {
       "model_id": "fca5b711260e4cadb8f2663bec7a80b1",
       "version_major": 2,
       "version_minor": 0
      },
      "text/plain": [
       "HBox(children=(FloatProgress(value=0.0, max=51409.0), HTML(value='')))"
      ]
     },
     "metadata": {},
     "output_type": "display_data"
    },
    {
     "name": "stdout",
     "output_type": "stream",
     "text": [
      "\n"
     ]
    },
    {
     "data": {
      "application/vnd.jupyter.widget-view+json": {
       "model_id": "2ba4aceb0ac544c3b6a1fa0cca8c737e",
       "version_major": 2,
       "version_minor": 0
      },
      "text/plain": [
       "HBox(children=(FloatProgress(value=0.0, max=76605.0), HTML(value='')))"
      ]
     },
     "metadata": {},
     "output_type": "display_data"
    },
    {
     "name": "stdout",
     "output_type": "stream",
     "text": [
      "\n"
     ]
    },
    {
     "data": {
      "application/vnd.jupyter.widget-view+json": {
       "model_id": "6ea91ceb8ba648db938d36f55c867095",
       "version_major": 2,
       "version_minor": 0
      },
      "text/plain": [
       "HBox(children=(FloatProgress(value=0.0, max=52433.0), HTML(value='')))"
      ]
     },
     "metadata": {},
     "output_type": "display_data"
    },
    {
     "name": "stdout",
     "output_type": "stream",
     "text": [
      "\n"
     ]
    },
    {
     "data": {
      "application/vnd.jupyter.widget-view+json": {
       "model_id": "67242aa2c007445c91175c987e254e1d",
       "version_major": 2,
       "version_minor": 0
      },
      "text/plain": [
       "HBox(children=(FloatProgress(value=0.0, max=76871.0), HTML(value='')))"
      ]
     },
     "metadata": {},
     "output_type": "display_data"
    },
    {
     "name": "stdout",
     "output_type": "stream",
     "text": [
      "\n"
     ]
    },
    {
     "data": {
      "application/vnd.jupyter.widget-view+json": {
       "model_id": "f1596b651da346ac91717f485b246351",
       "version_major": 2,
       "version_minor": 0
      },
      "text/plain": [
       "HBox(children=(FloatProgress(value=0.0, max=53594.0), HTML(value='')))"
      ]
     },
     "metadata": {},
     "output_type": "display_data"
    },
    {
     "name": "stdout",
     "output_type": "stream",
     "text": [
      "\n"
     ]
    },
    {
     "data": {
      "application/vnd.jupyter.widget-view+json": {
       "model_id": "2d13d30d1a4b47f7a0282ac39f34461b",
       "version_major": 2,
       "version_minor": 0
      },
      "text/plain": [
       "HBox(children=(FloatProgress(value=0.0, max=75890.0), HTML(value='')))"
      ]
     },
     "metadata": {},
     "output_type": "display_data"
    },
    {
     "name": "stdout",
     "output_type": "stream",
     "text": [
      "\n"
     ]
    },
    {
     "data": {
      "application/vnd.jupyter.widget-view+json": {
       "model_id": "8302914e06bf42fabe3c2776e15628a0",
       "version_major": 2,
       "version_minor": 0
      },
      "text/plain": [
       "HBox(children=(FloatProgress(value=0.0, max=52013.0), HTML(value='')))"
      ]
     },
     "metadata": {},
     "output_type": "display_data"
    },
    {
     "name": "stdout",
     "output_type": "stream",
     "text": [
      "\n"
     ]
    },
    {
     "data": {
      "application/vnd.jupyter.widget-view+json": {
       "model_id": "7768653e52fb445eb160f7799f4a1b7e",
       "version_major": 2,
       "version_minor": 0
      },
      "text/plain": [
       "HBox(children=(FloatProgress(value=0.0, max=76706.0), HTML(value='')))"
      ]
     },
     "metadata": {},
     "output_type": "display_data"
    },
    {
     "name": "stdout",
     "output_type": "stream",
     "text": [
      "\n"
     ]
    },
    {
     "data": {
      "application/vnd.jupyter.widget-view+json": {
       "model_id": "714a0dd41ff64c37a9fc5c9e26b6e585",
       "version_major": 2,
       "version_minor": 0
      },
      "text/plain": [
       "HBox(children=(FloatProgress(value=0.0, max=52750.0), HTML(value='')))"
      ]
     },
     "metadata": {},
     "output_type": "display_data"
    },
    {
     "name": "stdout",
     "output_type": "stream",
     "text": [
      "\n"
     ]
    },
    {
     "data": {
      "application/vnd.jupyter.widget-view+json": {
       "model_id": "7845d60063844ad59b06351b648620e7",
       "version_major": 2,
       "version_minor": 0
      },
      "text/plain": [
       "HBox(children=(FloatProgress(value=0.0, max=76582.0), HTML(value='')))"
      ]
     },
     "metadata": {},
     "output_type": "display_data"
    },
    {
     "name": "stdout",
     "output_type": "stream",
     "text": [
      "\n"
     ]
    },
    {
     "data": {
      "application/vnd.jupyter.widget-view+json": {
       "model_id": "36b44771c77c4ed4a9e7647f4f0007c9",
       "version_major": 2,
       "version_minor": 0
      },
      "text/plain": [
       "HBox(children=(FloatProgress(value=0.0, max=51847.0), HTML(value='')))"
      ]
     },
     "metadata": {},
     "output_type": "display_data"
    },
    {
     "name": "stdout",
     "output_type": "stream",
     "text": [
      "\n"
     ]
    },
    {
     "data": {
      "application/vnd.jupyter.widget-view+json": {
       "model_id": "18fa1c66c3d7420cbb3878424ef62b8d",
       "version_major": 2,
       "version_minor": 0
      },
      "text/plain": [
       "HBox(children=(FloatProgress(value=0.0, max=75941.0), HTML(value='')))"
      ]
     },
     "metadata": {},
     "output_type": "display_data"
    },
    {
     "name": "stdout",
     "output_type": "stream",
     "text": [
      "\n"
     ]
    },
    {
     "data": {
      "application/vnd.jupyter.widget-view+json": {
       "model_id": "a3d4b1eae038431eacdbd8a87a05d53e",
       "version_major": 2,
       "version_minor": 0
      },
      "text/plain": [
       "HBox(children=(FloatProgress(value=0.0, max=51832.0), HTML(value='')))"
      ]
     },
     "metadata": {},
     "output_type": "display_data"
    },
    {
     "name": "stdout",
     "output_type": "stream",
     "text": [
      "\n"
     ]
    },
    {
     "data": {
      "application/vnd.jupyter.widget-view+json": {
       "model_id": "95cf36a687a84888b62391c6275ccc2c",
       "version_major": 2,
       "version_minor": 0
      },
      "text/plain": [
       "HBox(children=(FloatProgress(value=0.0, max=19767.0), HTML(value='')))"
      ]
     },
     "metadata": {},
     "output_type": "display_data"
    },
    {
     "name": "stdout",
     "output_type": "stream",
     "text": [
      "\n"
     ]
    },
    {
     "data": {
      "application/vnd.jupyter.widget-view+json": {
       "model_id": "d83848947a364068b6876c3677755e74",
       "version_major": 2,
       "version_minor": 0
      },
      "text/plain": [
       "HBox(children=(FloatProgress(value=0.0, max=13155.0), HTML(value='')))"
      ]
     },
     "metadata": {},
     "output_type": "display_data"
    },
    {
     "name": "stdout",
     "output_type": "stream",
     "text": [
      "\n"
     ]
    }
   ],
   "source": [
    "motifs_H1 = extract_player_motifs(eventsH1)"
   ]
  },
  {
   "cell_type": "code",
   "execution_count": 133,
   "metadata": {},
   "outputs": [
    {
     "data": {
      "application/vnd.jupyter.widget-view+json": {
       "model_id": "",
       "version_major": 2,
       "version_minor": 0
      },
      "text/plain": [
       "HBox(children=(FloatProgress(value=0.0, max=75893.0), HTML(value='')))"
      ]
     },
     "metadata": {},
     "output_type": "display_data"
    },
    {
     "name": "stdout",
     "output_type": "stream",
     "text": [
      "\n"
     ]
    },
    {
     "data": {
      "application/vnd.jupyter.widget-view+json": {
       "model_id": "",
       "version_major": 2,
       "version_minor": 0
      },
      "text/plain": [
       "HBox(children=(FloatProgress(value=0.0, max=51155.0), HTML(value='')))"
      ]
     },
     "metadata": {},
     "output_type": "display_data"
    },
    {
     "name": "stdout",
     "output_type": "stream",
     "text": [
      "\n"
     ]
    },
    {
     "data": {
      "application/vnd.jupyter.widget-view+json": {
       "model_id": "",
       "version_major": 2,
       "version_minor": 0
      },
      "text/plain": [
       "HBox(children=(FloatProgress(value=0.0, max=76177.0), HTML(value='')))"
      ]
     },
     "metadata": {},
     "output_type": "display_data"
    },
    {
     "name": "stdout",
     "output_type": "stream",
     "text": [
      "\n"
     ]
    },
    {
     "data": {
      "application/vnd.jupyter.widget-view+json": {
       "model_id": "",
       "version_major": 2,
       "version_minor": 0
      },
      "text/plain": [
       "HBox(children=(FloatProgress(value=0.0, max=51846.0), HTML(value='')))"
      ]
     },
     "metadata": {},
     "output_type": "display_data"
    },
    {
     "name": "stdout",
     "output_type": "stream",
     "text": [
      "\n"
     ]
    },
    {
     "data": {
      "application/vnd.jupyter.widget-view+json": {
       "model_id": "",
       "version_major": 2,
       "version_minor": 0
      },
      "text/plain": [
       "HBox(children=(FloatProgress(value=0.0, max=75761.0), HTML(value='')))"
      ]
     },
     "metadata": {},
     "output_type": "display_data"
    },
    {
     "name": "stdout",
     "output_type": "stream",
     "text": [
      "\n"
     ]
    },
    {
     "data": {
      "application/vnd.jupyter.widget-view+json": {
       "model_id": "",
       "version_major": 2,
       "version_minor": 0
      },
      "text/plain": [
       "HBox(children=(FloatProgress(value=0.0, max=51833.0), HTML(value='')))"
      ]
     },
     "metadata": {},
     "output_type": "display_data"
    },
    {
     "name": "stdout",
     "output_type": "stream",
     "text": [
      "\n"
     ]
    },
    {
     "data": {
      "application/vnd.jupyter.widget-view+json": {
       "model_id": "",
       "version_major": 2,
       "version_minor": 0
      },
      "text/plain": [
       "HBox(children=(FloatProgress(value=0.0, max=76723.0), HTML(value='')))"
      ]
     },
     "metadata": {},
     "output_type": "display_data"
    },
    {
     "name": "stdout",
     "output_type": "stream",
     "text": [
      "\n"
     ]
    },
    {
     "data": {
      "application/vnd.jupyter.widget-view+json": {
       "model_id": "",
       "version_major": 2,
       "version_minor": 0
      },
      "text/plain": [
       "HBox(children=(FloatProgress(value=0.0, max=53326.0), HTML(value='')))"
      ]
     },
     "metadata": {},
     "output_type": "display_data"
    },
    {
     "name": "stdout",
     "output_type": "stream",
     "text": [
      "\n"
     ]
    },
    {
     "data": {
      "application/vnd.jupyter.widget-view+json": {
       "model_id": "",
       "version_major": 2,
       "version_minor": 0
      },
      "text/plain": [
       "HBox(children=(FloatProgress(value=0.0, max=76808.0), HTML(value='')))"
      ]
     },
     "metadata": {},
     "output_type": "display_data"
    },
    {
     "name": "stdout",
     "output_type": "stream",
     "text": [
      "\n"
     ]
    },
    {
     "data": {
      "application/vnd.jupyter.widget-view+json": {
       "model_id": "",
       "version_major": 2,
       "version_minor": 0
      },
      "text/plain": [
       "HBox(children=(FloatProgress(value=0.0, max=53625.0), HTML(value='')))"
      ]
     },
     "metadata": {},
     "output_type": "display_data"
    },
    {
     "name": "stdout",
     "output_type": "stream",
     "text": [
      "\n"
     ]
    },
    {
     "data": {
      "application/vnd.jupyter.widget-view+json": {
       "model_id": "",
       "version_major": 2,
       "version_minor": 0
      },
      "text/plain": [
       "HBox(children=(FloatProgress(value=0.0, max=76118.0), HTML(value='')))"
      ]
     },
     "metadata": {},
     "output_type": "display_data"
    },
    {
     "name": "stdout",
     "output_type": "stream",
     "text": [
      "\n"
     ]
    },
    {
     "data": {
      "application/vnd.jupyter.widget-view+json": {
       "model_id": "",
       "version_major": 2,
       "version_minor": 0
      },
      "text/plain": [
       "HBox(children=(FloatProgress(value=0.0, max=52345.0), HTML(value='')))"
      ]
     },
     "metadata": {},
     "output_type": "display_data"
    },
    {
     "name": "stdout",
     "output_type": "stream",
     "text": [
      "\n"
     ]
    },
    {
     "data": {
      "application/vnd.jupyter.widget-view+json": {
       "model_id": "",
       "version_major": 2,
       "version_minor": 0
      },
      "text/plain": [
       "HBox(children=(FloatProgress(value=0.0, max=75668.0), HTML(value='')))"
      ]
     },
     "metadata": {},
     "output_type": "display_data"
    },
    {
     "name": "stdout",
     "output_type": "stream",
     "text": [
      "\n"
     ]
    },
    {
     "data": {
      "application/vnd.jupyter.widget-view+json": {
       "model_id": "",
       "version_major": 2,
       "version_minor": 0
      },
      "text/plain": [
       "HBox(children=(FloatProgress(value=0.0, max=51670.0), HTML(value='')))"
      ]
     },
     "metadata": {},
     "output_type": "display_data"
    },
    {
     "name": "stdout",
     "output_type": "stream",
     "text": [
      "\n"
     ]
    },
    {
     "data": {
      "application/vnd.jupyter.widget-view+json": {
       "model_id": "",
       "version_major": 2,
       "version_minor": 0
      },
      "text/plain": [
       "HBox(children=(FloatProgress(value=0.0, max=76096.0), HTML(value='')))"
      ]
     },
     "metadata": {},
     "output_type": "display_data"
    },
    {
     "name": "stdout",
     "output_type": "stream",
     "text": [
      "\n"
     ]
    },
    {
     "data": {
      "application/vnd.jupyter.widget-view+json": {
       "model_id": "",
       "version_major": 2,
       "version_minor": 0
      },
      "text/plain": [
       "HBox(children=(FloatProgress(value=0.0, max=52036.0), HTML(value='')))"
      ]
     },
     "metadata": {},
     "output_type": "display_data"
    },
    {
     "name": "stdout",
     "output_type": "stream",
     "text": [
      "\n"
     ]
    },
    {
     "data": {
      "application/vnd.jupyter.widget-view+json": {
       "model_id": "",
       "version_major": 2,
       "version_minor": 0
      },
      "text/plain": [
       "HBox(children=(FloatProgress(value=0.0, max=76180.0), HTML(value='')))"
      ]
     },
     "metadata": {},
     "output_type": "display_data"
    },
    {
     "name": "stdout",
     "output_type": "stream",
     "text": [
      "\n"
     ]
    },
    {
     "data": {
      "application/vnd.jupyter.widget-view+json": {
       "model_id": "",
       "version_major": 2,
       "version_minor": 0
      },
      "text/plain": [
       "HBox(children=(FloatProgress(value=0.0, max=52809.0), HTML(value='')))"
      ]
     },
     "metadata": {},
     "output_type": "display_data"
    },
    {
     "name": "stdout",
     "output_type": "stream",
     "text": [
      "\n"
     ]
    },
    {
     "data": {
      "application/vnd.jupyter.widget-view+json": {
       "model_id": "",
       "version_major": 2,
       "version_minor": 0
      },
      "text/plain": [
       "HBox(children=(FloatProgress(value=0.0, max=75539.0), HTML(value='')))"
      ]
     },
     "metadata": {},
     "output_type": "display_data"
    },
    {
     "name": "stdout",
     "output_type": "stream",
     "text": [
      "\n"
     ]
    },
    {
     "data": {
      "application/vnd.jupyter.widget-view+json": {
       "model_id": "",
       "version_major": 2,
       "version_minor": 0
      },
      "text/plain": [
       "HBox(children=(FloatProgress(value=0.0, max=51556.0), HTML(value='')))"
      ]
     },
     "metadata": {},
     "output_type": "display_data"
    },
    {
     "name": "stdout",
     "output_type": "stream",
     "text": [
      "\n"
     ]
    },
    {
     "data": {
      "application/vnd.jupyter.widget-view+json": {
       "model_id": "",
       "version_major": 2,
       "version_minor": 0
      },
      "text/plain": [
       "HBox(children=(FloatProgress(value=0.0, max=75591.0), HTML(value='')))"
      ]
     },
     "metadata": {},
     "output_type": "display_data"
    },
    {
     "name": "stdout",
     "output_type": "stream",
     "text": [
      "\n"
     ]
    },
    {
     "data": {
      "application/vnd.jupyter.widget-view+json": {
       "model_id": "",
       "version_major": 2,
       "version_minor": 0
      },
      "text/plain": [
       "HBox(children=(FloatProgress(value=0.0, max=51648.0), HTML(value='')))"
      ]
     },
     "metadata": {},
     "output_type": "display_data"
    },
    {
     "name": "stdout",
     "output_type": "stream",
     "text": [
      "\n"
     ]
    },
    {
     "data": {
      "application/vnd.jupyter.widget-view+json": {
       "model_id": "",
       "version_major": 2,
       "version_minor": 0
      },
      "text/plain": [
       "HBox(children=(FloatProgress(value=0.0, max=75802.0), HTML(value='')))"
      ]
     },
     "metadata": {},
     "output_type": "display_data"
    },
    {
     "name": "stdout",
     "output_type": "stream",
     "text": [
      "\n"
     ]
    },
    {
     "data": {
      "application/vnd.jupyter.widget-view+json": {
       "model_id": "",
       "version_major": 2,
       "version_minor": 0
      },
      "text/plain": [
       "HBox(children=(FloatProgress(value=0.0, max=52033.0), HTML(value='')))"
      ]
     },
     "metadata": {},
     "output_type": "display_data"
    },
    {
     "name": "stdout",
     "output_type": "stream",
     "text": [
      "\n"
     ]
    },
    {
     "data": {
      "application/vnd.jupyter.widget-view+json": {
       "model_id": "",
       "version_major": 2,
       "version_minor": 0
      },
      "text/plain": [
       "HBox(children=(FloatProgress(value=0.0, max=75711.0), HTML(value='')))"
      ]
     },
     "metadata": {},
     "output_type": "display_data"
    },
    {
     "name": "stdout",
     "output_type": "stream",
     "text": [
      "\n"
     ]
    },
    {
     "data": {
      "application/vnd.jupyter.widget-view+json": {
       "model_id": "",
       "version_major": 2,
       "version_minor": 0
      },
      "text/plain": [
       "HBox(children=(FloatProgress(value=0.0, max=52373.0), HTML(value='')))"
      ]
     },
     "metadata": {},
     "output_type": "display_data"
    },
    {
     "name": "stdout",
     "output_type": "stream",
     "text": [
      "\n"
     ]
    },
    {
     "data": {
      "application/vnd.jupyter.widget-view+json": {
       "model_id": "",
       "version_major": 2,
       "version_minor": 0
      },
      "text/plain": [
       "HBox(children=(FloatProgress(value=0.0, max=75589.0), HTML(value='')))"
      ]
     },
     "metadata": {},
     "output_type": "display_data"
    },
    {
     "name": "stdout",
     "output_type": "stream",
     "text": [
      "\n"
     ]
    },
    {
     "data": {
      "application/vnd.jupyter.widget-view+json": {
       "model_id": "",
       "version_major": 2,
       "version_minor": 0
      },
      "text/plain": [
       "HBox(children=(FloatProgress(value=0.0, max=51333.0), HTML(value='')))"
      ]
     },
     "metadata": {},
     "output_type": "display_data"
    },
    {
     "name": "stdout",
     "output_type": "stream",
     "text": [
      "\n"
     ]
    },
    {
     "data": {
      "application/vnd.jupyter.widget-view+json": {
       "model_id": "",
       "version_major": 2,
       "version_minor": 0
      },
      "text/plain": [
       "HBox(children=(FloatProgress(value=0.0, max=75538.0), HTML(value='')))"
      ]
     },
     "metadata": {},
     "output_type": "display_data"
    },
    {
     "name": "stdout",
     "output_type": "stream",
     "text": [
      "\n"
     ]
    },
    {
     "data": {
      "application/vnd.jupyter.widget-view+json": {
       "model_id": "",
       "version_major": 2,
       "version_minor": 0
      },
      "text/plain": [
       "HBox(children=(FloatProgress(value=0.0, max=51373.0), HTML(value='')))"
      ]
     },
     "metadata": {},
     "output_type": "display_data"
    },
    {
     "name": "stdout",
     "output_type": "stream",
     "text": [
      "\n"
     ]
    },
    {
     "data": {
      "application/vnd.jupyter.widget-view+json": {
       "model_id": "",
       "version_major": 2,
       "version_minor": 0
      },
      "text/plain": [
       "HBox(children=(FloatProgress(value=0.0, max=34100.0), HTML(value='')))"
      ]
     },
     "metadata": {},
     "output_type": "display_data"
    },
    {
     "name": "stdout",
     "output_type": "stream",
     "text": [
      "\n"
     ]
    },
    {
     "data": {
      "application/vnd.jupyter.widget-view+json": {
       "model_id": "",
       "version_major": 2,
       "version_minor": 0
      },
      "text/plain": [
       "HBox(children=(FloatProgress(value=0.0, max=23511.0), HTML(value='')))"
      ]
     },
     "metadata": {},
     "output_type": "display_data"
    },
    {
     "name": "stdout",
     "output_type": "stream",
     "text": [
      "\n"
     ]
    }
   ],
   "source": [
    "motifs_H2 = extract_player_motifs(eventsH2)"
   ]
  },
  {
   "cell_type": "code",
   "execution_count": 268,
   "metadata": {},
   "outputs": [
    {
     "data": {
      "application/vnd.jupyter.widget-view+json": {
       "model_id": "0cfcb36dc38b4d23a8ff739f2f69772b",
       "version_major": 2,
       "version_minor": 0
      },
      "text/plain": [
       "HBox(children=(FloatProgress(value=0.0, max=77099.0), HTML(value='')))"
      ]
     },
     "metadata": {},
     "output_type": "display_data"
    },
    {
     "name": "stdout",
     "output_type": "stream",
     "text": [
      "\n"
     ]
    },
    {
     "data": {
      "application/vnd.jupyter.widget-view+json": {
       "model_id": "a15c4b2c0d7c47ee84482ea6d37267f6",
       "version_major": 2,
       "version_minor": 0
      },
      "text/plain": [
       "HBox(children=(FloatProgress(value=0.0, max=52667.0), HTML(value='')))"
      ]
     },
     "metadata": {},
     "output_type": "display_data"
    },
    {
     "name": "stdout",
     "output_type": "stream",
     "text": [
      "\n"
     ]
    },
    {
     "data": {
      "application/vnd.jupyter.widget-view+json": {
       "model_id": "6a318e978c534a5a9b805eb56ef9609f",
       "version_major": 2,
       "version_minor": 0
      },
      "text/plain": [
       "HBox(children=(FloatProgress(value=0.0, max=76231.0), HTML(value='')))"
      ]
     },
     "metadata": {},
     "output_type": "display_data"
    },
    {
     "name": "stdout",
     "output_type": "stream",
     "text": [
      "\n"
     ]
    },
    {
     "data": {
      "application/vnd.jupyter.widget-view+json": {
       "model_id": "e815749f78114ed68ab847d39e4fe757",
       "version_major": 2,
       "version_minor": 0
      },
      "text/plain": [
       "HBox(children=(FloatProgress(value=0.0, max=51902.0), HTML(value='')))"
      ]
     },
     "metadata": {},
     "output_type": "display_data"
    },
    {
     "name": "stdout",
     "output_type": "stream",
     "text": [
      "\n"
     ]
    },
    {
     "data": {
      "application/vnd.jupyter.widget-view+json": {
       "model_id": "cbfa4bb31c1143479a4a00a70130339f",
       "version_major": 2,
       "version_minor": 0
      },
      "text/plain": [
       "HBox(children=(FloatProgress(value=0.0, max=76304.0), HTML(value='')))"
      ]
     },
     "metadata": {},
     "output_type": "display_data"
    },
    {
     "name": "stdout",
     "output_type": "stream",
     "text": [
      "\n"
     ]
    },
    {
     "data": {
      "application/vnd.jupyter.widget-view+json": {
       "model_id": "ad06d062f4bc4002903149c0197a36cc",
       "version_major": 2,
       "version_minor": 0
      },
      "text/plain": [
       "HBox(children=(FloatProgress(value=0.0, max=51891.0), HTML(value='')))"
      ]
     },
     "metadata": {},
     "output_type": "display_data"
    },
    {
     "name": "stdout",
     "output_type": "stream",
     "text": [
      "\n"
     ]
    },
    {
     "data": {
      "application/vnd.jupyter.widget-view+json": {
       "model_id": "817b19a973f64a8abfa8aea0d5802f09",
       "version_major": 2,
       "version_minor": 0
      },
      "text/plain": [
       "HBox(children=(FloatProgress(value=0.0, max=76063.0), HTML(value='')))"
      ]
     },
     "metadata": {},
     "output_type": "display_data"
    },
    {
     "name": "stdout",
     "output_type": "stream",
     "text": [
      "\n"
     ]
    },
    {
     "data": {
      "application/vnd.jupyter.widget-view+json": {
       "model_id": "c805ff5430b64e3ebc166dd349f521c0",
       "version_major": 2,
       "version_minor": 0
      },
      "text/plain": [
       "HBox(children=(FloatProgress(value=0.0, max=51527.0), HTML(value='')))"
      ]
     },
     "metadata": {},
     "output_type": "display_data"
    },
    {
     "name": "stdout",
     "output_type": "stream",
     "text": [
      "\n"
     ]
    },
    {
     "data": {
      "application/vnd.jupyter.widget-view+json": {
       "model_id": "f0b0bdea51544122a52c1f7374ec12f4",
       "version_major": 2,
       "version_minor": 0
      },
      "text/plain": [
       "HBox(children=(FloatProgress(value=0.0, max=75991.0), HTML(value='')))"
      ]
     },
     "metadata": {},
     "output_type": "display_data"
    },
    {
     "name": "stdout",
     "output_type": "stream",
     "text": [
      "\n"
     ]
    },
    {
     "data": {
      "application/vnd.jupyter.widget-view+json": {
       "model_id": "847408b366a343e5b17e4e2d50632f27",
       "version_major": 2,
       "version_minor": 0
      },
      "text/plain": [
       "HBox(children=(FloatProgress(value=0.0, max=51540.0), HTML(value='')))"
      ]
     },
     "metadata": {},
     "output_type": "display_data"
    },
    {
     "name": "stdout",
     "output_type": "stream",
     "text": [
      "\n"
     ]
    },
    {
     "data": {
      "application/vnd.jupyter.widget-view+json": {
       "model_id": "5de08430cbdb45d9862a2b2d7706a735",
       "version_major": 2,
       "version_minor": 0
      },
      "text/plain": [
       "HBox(children=(FloatProgress(value=0.0, max=75699.0), HTML(value='')))"
      ]
     },
     "metadata": {},
     "output_type": "display_data"
    },
    {
     "name": "stdout",
     "output_type": "stream",
     "text": [
      "\n"
     ]
    },
    {
     "data": {
      "application/vnd.jupyter.widget-view+json": {
       "model_id": "f251ed7bf82f48719378dd2654128a3e",
       "version_major": 2,
       "version_minor": 0
      },
      "text/plain": [
       "HBox(children=(FloatProgress(value=0.0, max=51485.0), HTML(value='')))"
      ]
     },
     "metadata": {},
     "output_type": "display_data"
    },
    {
     "name": "stdout",
     "output_type": "stream",
     "text": [
      "\n"
     ]
    },
    {
     "data": {
      "application/vnd.jupyter.widget-view+json": {
       "model_id": "542429a8b09245f1b176a0017f9dafae",
       "version_major": 2,
       "version_minor": 0
      },
      "text/plain": [
       "HBox(children=(FloatProgress(value=0.0, max=77955.0), HTML(value='')))"
      ]
     },
     "metadata": {},
     "output_type": "display_data"
    },
    {
     "name": "stdout",
     "output_type": "stream",
     "text": [
      "\n"
     ]
    },
    {
     "data": {
      "application/vnd.jupyter.widget-view+json": {
       "model_id": "ea927cf5e3dc4e27b6652570671227ee",
       "version_major": 2,
       "version_minor": 0
      },
      "text/plain": [
       "HBox(children=(FloatProgress(value=0.0, max=55590.0), HTML(value='')))"
      ]
     },
     "metadata": {},
     "output_type": "display_data"
    },
    {
     "name": "stdout",
     "output_type": "stream",
     "text": [
      "\n"
     ]
    },
    {
     "data": {
      "application/vnd.jupyter.widget-view+json": {
       "model_id": "b6c2972460764bc78790c0966c994348",
       "version_major": 2,
       "version_minor": 0
      },
      "text/plain": [
       "HBox(children=(FloatProgress(value=0.0, max=77172.0), HTML(value='')))"
      ]
     },
     "metadata": {},
     "output_type": "display_data"
    },
    {
     "name": "stdout",
     "output_type": "stream",
     "text": [
      "\n"
     ]
    },
    {
     "data": {
      "application/vnd.jupyter.widget-view+json": {
       "model_id": "a9805b0b709246ada976d44bdad20233",
       "version_major": 2,
       "version_minor": 0
      },
      "text/plain": [
       "HBox(children=(FloatProgress(value=0.0, max=54748.0), HTML(value='')))"
      ]
     },
     "metadata": {},
     "output_type": "display_data"
    },
    {
     "name": "stdout",
     "output_type": "stream",
     "text": [
      "\n"
     ]
    },
    {
     "data": {
      "application/vnd.jupyter.widget-view+json": {
       "model_id": "d5c688c148174f3eab5ba3d4aaef6d35",
       "version_major": 2,
       "version_minor": 0
      },
      "text/plain": [
       "HBox(children=(FloatProgress(value=0.0, max=76442.0), HTML(value='')))"
      ]
     },
     "metadata": {},
     "output_type": "display_data"
    },
    {
     "name": "stdout",
     "output_type": "stream",
     "text": [
      "\n"
     ]
    },
    {
     "data": {
      "application/vnd.jupyter.widget-view+json": {
       "model_id": "85d6c7e5d6d244b381049175ad7924a4",
       "version_major": 2,
       "version_minor": 0
      },
      "text/plain": [
       "HBox(children=(FloatProgress(value=0.0, max=52642.0), HTML(value='')))"
      ]
     },
     "metadata": {},
     "output_type": "display_data"
    },
    {
     "name": "stdout",
     "output_type": "stream",
     "text": [
      "\n"
     ]
    },
    {
     "data": {
      "application/vnd.jupyter.widget-view+json": {
       "model_id": "92591db1c81e4f66a8adb184d2c81777",
       "version_major": 2,
       "version_minor": 0
      },
      "text/plain": [
       "HBox(children=(FloatProgress(value=0.0, max=76510.0), HTML(value='')))"
      ]
     },
     "metadata": {},
     "output_type": "display_data"
    },
    {
     "name": "stdout",
     "output_type": "stream",
     "text": [
      "\n"
     ]
    },
    {
     "data": {
      "application/vnd.jupyter.widget-view+json": {
       "model_id": "a2da741a67f64e74972a3ac27d885b80",
       "version_major": 2,
       "version_minor": 0
      },
      "text/plain": [
       "HBox(children=(FloatProgress(value=0.0, max=52691.0), HTML(value='')))"
      ]
     },
     "metadata": {},
     "output_type": "display_data"
    },
    {
     "name": "stdout",
     "output_type": "stream",
     "text": [
      "\n"
     ]
    },
    {
     "data": {
      "application/vnd.jupyter.widget-view+json": {
       "model_id": "f3c2870147e143e084a7c09424e7dfec",
       "version_major": 2,
       "version_minor": 0
      },
      "text/plain": [
       "HBox(children=(FloatProgress(value=0.0, max=76456.0), HTML(value='')))"
      ]
     },
     "metadata": {},
     "output_type": "display_data"
    },
    {
     "name": "stdout",
     "output_type": "stream",
     "text": [
      "\n"
     ]
    },
    {
     "data": {
      "application/vnd.jupyter.widget-view+json": {
       "model_id": "e78020ab06e24d39a1f2213b80f91ca1",
       "version_major": 2,
       "version_minor": 0
      },
      "text/plain": [
       "HBox(children=(FloatProgress(value=0.0, max=52839.0), HTML(value='')))"
      ]
     },
     "metadata": {},
     "output_type": "display_data"
    },
    {
     "name": "stdout",
     "output_type": "stream",
     "text": [
      "\n"
     ]
    },
    {
     "data": {
      "application/vnd.jupyter.widget-view+json": {
       "model_id": "5d3b84da4e5d484da6955305ed692dd8",
       "version_major": 2,
       "version_minor": 0
      },
      "text/plain": [
       "HBox(children=(FloatProgress(value=0.0, max=76440.0), HTML(value='')))"
      ]
     },
     "metadata": {},
     "output_type": "display_data"
    },
    {
     "name": "stdout",
     "output_type": "stream",
     "text": [
      "\n"
     ]
    },
    {
     "data": {
      "application/vnd.jupyter.widget-view+json": {
       "model_id": "bb7376da49a14c9ba12f9de2ee2bb022",
       "version_major": 2,
       "version_minor": 0
      },
      "text/plain": [
       "HBox(children=(FloatProgress(value=0.0, max=52742.0), HTML(value='')))"
      ]
     },
     "metadata": {},
     "output_type": "display_data"
    },
    {
     "name": "stdout",
     "output_type": "stream",
     "text": [
      "\n"
     ]
    },
    {
     "data": {
      "application/vnd.jupyter.widget-view+json": {
       "model_id": "1ad91c2257174501a11b470037764857",
       "version_major": 2,
       "version_minor": 0
      },
      "text/plain": [
       "HBox(children=(FloatProgress(value=0.0, max=76362.0), HTML(value='')))"
      ]
     },
     "metadata": {},
     "output_type": "display_data"
    },
    {
     "name": "stdout",
     "output_type": "stream",
     "text": [
      "\n"
     ]
    },
    {
     "data": {
      "application/vnd.jupyter.widget-view+json": {
       "model_id": "dac5eb9be1714267979a255803fbeae5",
       "version_major": 2,
       "version_minor": 0
      },
      "text/plain": [
       "HBox(children=(FloatProgress(value=0.0, max=53055.0), HTML(value='')))"
      ]
     },
     "metadata": {},
     "output_type": "display_data"
    },
    {
     "name": "stdout",
     "output_type": "stream",
     "text": [
      "\n"
     ]
    },
    {
     "data": {
      "application/vnd.jupyter.widget-view+json": {
       "model_id": "7f95f2e878f74e958f71794c7a34ddea",
       "version_major": 2,
       "version_minor": 0
      },
      "text/plain": [
       "HBox(children=(FloatProgress(value=0.0, max=76380.0), HTML(value='')))"
      ]
     },
     "metadata": {},
     "output_type": "display_data"
    },
    {
     "name": "stdout",
     "output_type": "stream",
     "text": [
      "\n"
     ]
    },
    {
     "data": {
      "application/vnd.jupyter.widget-view+json": {
       "model_id": "f7d066c46bd943a5b19b297ca4c71837",
       "version_major": 2,
       "version_minor": 0
      },
      "text/plain": [
       "HBox(children=(FloatProgress(value=0.0, max=51922.0), HTML(value='')))"
      ]
     },
     "metadata": {},
     "output_type": "display_data"
    },
    {
     "name": "stdout",
     "output_type": "stream",
     "text": [
      "\n"
     ]
    },
    {
     "data": {
      "application/vnd.jupyter.widget-view+json": {
       "model_id": "823b4e3cd15a48aaa4b8691dc920a2ae",
       "version_major": 2,
       "version_minor": 0
      },
      "text/plain": [
       "HBox(children=(FloatProgress(value=0.0, max=75542.0), HTML(value='')))"
      ]
     },
     "metadata": {},
     "output_type": "display_data"
    },
    {
     "name": "stdout",
     "output_type": "stream",
     "text": [
      "\n"
     ]
    },
    {
     "data": {
      "application/vnd.jupyter.widget-view+json": {
       "model_id": "6ffae332f245429990feb5ee78b9114a",
       "version_major": 2,
       "version_minor": 0
      },
      "text/plain": [
       "HBox(children=(FloatProgress(value=0.0, max=50630.0), HTML(value='')))"
      ]
     },
     "metadata": {},
     "output_type": "display_data"
    },
    {
     "name": "stdout",
     "output_type": "stream",
     "text": [
      "\n"
     ]
    },
    {
     "data": {
      "application/vnd.jupyter.widget-view+json": {
       "model_id": "c28b18ceb7d8472bbc519b7044c02b23",
       "version_major": 2,
       "version_minor": 0
      },
      "text/plain": [
       "HBox(children=(FloatProgress(value=0.0, max=76107.0), HTML(value='')))"
      ]
     },
     "metadata": {},
     "output_type": "display_data"
    },
    {
     "name": "stdout",
     "output_type": "stream",
     "text": [
      "\n"
     ]
    },
    {
     "data": {
      "application/vnd.jupyter.widget-view+json": {
       "model_id": "fcac292335b646c58d4d2b6c760f8fda",
       "version_major": 2,
       "version_minor": 0
      },
      "text/plain": [
       "HBox(children=(FloatProgress(value=0.0, max=51836.0), HTML(value='')))"
      ]
     },
     "metadata": {},
     "output_type": "display_data"
    },
    {
     "name": "stdout",
     "output_type": "stream",
     "text": [
      "\n"
     ]
    },
    {
     "data": {
      "application/vnd.jupyter.widget-view+json": {
       "model_id": "0c00110609d649e2962c084779905632",
       "version_major": 2,
       "version_minor": 0
      },
      "text/plain": [
       "HBox(children=(FloatProgress(value=0.0, max=75939.0), HTML(value='')))"
      ]
     },
     "metadata": {},
     "output_type": "display_data"
    },
    {
     "name": "stdout",
     "output_type": "stream",
     "text": [
      "\n"
     ]
    },
    {
     "data": {
      "application/vnd.jupyter.widget-view+json": {
       "model_id": "39f24a99bca140cc84ef7c066291814e",
       "version_major": 2,
       "version_minor": 0
      },
      "text/plain": [
       "HBox(children=(FloatProgress(value=0.0, max=51807.0), HTML(value='')))"
      ]
     },
     "metadata": {},
     "output_type": "display_data"
    },
    {
     "name": "stdout",
     "output_type": "stream",
     "text": [
      "\n"
     ]
    },
    {
     "data": {
      "application/vnd.jupyter.widget-view+json": {
       "model_id": "6b119519cdc34e8abc559b182f830617",
       "version_major": 2,
       "version_minor": 0
      },
      "text/plain": [
       "HBox(children=(FloatProgress(value=0.0, max=75858.0), HTML(value='')))"
      ]
     },
     "metadata": {},
     "output_type": "display_data"
    },
    {
     "name": "stdout",
     "output_type": "stream",
     "text": [
      "\n"
     ]
    },
    {
     "data": {
      "application/vnd.jupyter.widget-view+json": {
       "model_id": "4d095090c5bc4804a88e6125b6c3d8e0",
       "version_major": 2,
       "version_minor": 0
      },
      "text/plain": [
       "HBox(children=(FloatProgress(value=0.0, max=51912.0), HTML(value='')))"
      ]
     },
     "metadata": {},
     "output_type": "display_data"
    },
    {
     "name": "stdout",
     "output_type": "stream",
     "text": [
      "\n"
     ]
    },
    {
     "data": {
      "application/vnd.jupyter.widget-view+json": {
       "model_id": "84aa84c1d90d4f93ac2c0d547dcd8eeb",
       "version_major": 2,
       "version_minor": 0
      },
      "text/plain": [
       "HBox(children=(FloatProgress(value=0.0, max=75946.0), HTML(value='')))"
      ]
     },
     "metadata": {},
     "output_type": "display_data"
    },
    {
     "name": "stdout",
     "output_type": "stream",
     "text": [
      "\n"
     ]
    },
    {
     "data": {
      "application/vnd.jupyter.widget-view+json": {
       "model_id": "a9ec9ba268b54e57b2b15d8b9c05d00b",
       "version_major": 2,
       "version_minor": 0
      },
      "text/plain": [
       "HBox(children=(FloatProgress(value=0.0, max=52222.0), HTML(value='')))"
      ]
     },
     "metadata": {},
     "output_type": "display_data"
    },
    {
     "name": "stdout",
     "output_type": "stream",
     "text": [
      "\n"
     ]
    },
    {
     "data": {
      "application/vnd.jupyter.widget-view+json": {
       "model_id": "7a5163cf295e4f6cb8e74f29ea40066a",
       "version_major": 2,
       "version_minor": 0
      },
      "text/plain": [
       "HBox(children=(FloatProgress(value=0.0, max=77391.0), HTML(value='')))"
      ]
     },
     "metadata": {},
     "output_type": "display_data"
    },
    {
     "name": "stdout",
     "output_type": "stream",
     "text": [
      "\n"
     ]
    },
    {
     "data": {
      "application/vnd.jupyter.widget-view+json": {
       "model_id": "86638923ef4f47bcb083943891d2a28d",
       "version_major": 2,
       "version_minor": 0
      },
      "text/plain": [
       "HBox(children=(FloatProgress(value=0.0, max=53247.0), HTML(value='')))"
      ]
     },
     "metadata": {},
     "output_type": "display_data"
    },
    {
     "name": "stdout",
     "output_type": "stream",
     "text": [
      "\n"
     ]
    },
    {
     "data": {
      "application/vnd.jupyter.widget-view+json": {
       "model_id": "1cf363b9b557489eb56c73b9b64647eb",
       "version_major": 2,
       "version_minor": 0
      },
      "text/plain": [
       "HBox(children=(FloatProgress(value=0.0, max=75986.0), HTML(value='')))"
      ]
     },
     "metadata": {},
     "output_type": "display_data"
    },
    {
     "name": "stdout",
     "output_type": "stream",
     "text": [
      "\n"
     ]
    },
    {
     "data": {
      "application/vnd.jupyter.widget-view+json": {
       "model_id": "0a1ee333344f4a8ba92c772f0e1ec275",
       "version_major": 2,
       "version_minor": 0
      },
      "text/plain": [
       "HBox(children=(FloatProgress(value=0.0, max=51285.0), HTML(value='')))"
      ]
     },
     "metadata": {},
     "output_type": "display_data"
    },
    {
     "name": "stdout",
     "output_type": "stream",
     "text": [
      "\n"
     ]
    },
    {
     "data": {
      "application/vnd.jupyter.widget-view+json": {
       "model_id": "670fa681599a4689b85f85308b88b5ac",
       "version_major": 2,
       "version_minor": 0
      },
      "text/plain": [
       "HBox(children=(FloatProgress(value=0.0, max=75632.0), HTML(value='')))"
      ]
     },
     "metadata": {},
     "output_type": "display_data"
    },
    {
     "name": "stdout",
     "output_type": "stream",
     "text": [
      "\n"
     ]
    },
    {
     "data": {
      "application/vnd.jupyter.widget-view+json": {
       "model_id": "e1c27fcd7ef6474e8b324dc16080ecc2",
       "version_major": 2,
       "version_minor": 0
      },
      "text/plain": [
       "HBox(children=(FloatProgress(value=0.0, max=51123.0), HTML(value='')))"
      ]
     },
     "metadata": {},
     "output_type": "display_data"
    },
    {
     "name": "stdout",
     "output_type": "stream",
     "text": [
      "\n"
     ]
    },
    {
     "data": {
      "application/vnd.jupyter.widget-view+json": {
       "model_id": "401b6386f68e42f0988cf6a379ffecbc",
       "version_major": 2,
       "version_minor": 0
      },
      "text/plain": [
       "HBox(children=(FloatProgress(value=0.0, max=75513.0), HTML(value='')))"
      ]
     },
     "metadata": {},
     "output_type": "display_data"
    },
    {
     "name": "stdout",
     "output_type": "stream",
     "text": [
      "\n"
     ]
    },
    {
     "data": {
      "application/vnd.jupyter.widget-view+json": {
       "model_id": "29375a7cbc7d4dcdb1396b80458cbb1f",
       "version_major": 2,
       "version_minor": 0
      },
      "text/plain": [
       "HBox(children=(FloatProgress(value=0.0, max=51184.0), HTML(value='')))"
      ]
     },
     "metadata": {},
     "output_type": "display_data"
    },
    {
     "name": "stdout",
     "output_type": "stream",
     "text": [
      "\n"
     ]
    },
    {
     "data": {
      "application/vnd.jupyter.widget-view+json": {
       "model_id": "a89b1243c89b45b1b72bb0e76e2382ab",
       "version_major": 2,
       "version_minor": 0
      },
      "text/plain": [
       "HBox(children=(FloatProgress(value=0.0, max=75526.0), HTML(value='')))"
      ]
     },
     "metadata": {},
     "output_type": "display_data"
    },
    {
     "name": "stdout",
     "output_type": "stream",
     "text": [
      "\n"
     ]
    },
    {
     "data": {
      "application/vnd.jupyter.widget-view+json": {
       "model_id": "437362186a46417d862dae900f0f4f64",
       "version_major": 2,
       "version_minor": 0
      },
      "text/plain": [
       "HBox(children=(FloatProgress(value=0.0, max=51496.0), HTML(value='')))"
      ]
     },
     "metadata": {},
     "output_type": "display_data"
    },
    {
     "name": "stdout",
     "output_type": "stream",
     "text": [
      "\n"
     ]
    },
    {
     "data": {
      "application/vnd.jupyter.widget-view+json": {
       "model_id": "fb0b5bb01bf747c7a7f73cfec640886b",
       "version_major": 2,
       "version_minor": 0
      },
      "text/plain": [
       "HBox(children=(FloatProgress(value=0.0, max=76603.0), HTML(value='')))"
      ]
     },
     "metadata": {},
     "output_type": "display_data"
    },
    {
     "name": "stdout",
     "output_type": "stream",
     "text": [
      "\n"
     ]
    },
    {
     "data": {
      "application/vnd.jupyter.widget-view+json": {
       "model_id": "7287c75f4fc54a0d9edc23db3c411deb",
       "version_major": 2,
       "version_minor": 0
      },
      "text/plain": [
       "HBox(children=(FloatProgress(value=0.0, max=52856.0), HTML(value='')))"
      ]
     },
     "metadata": {},
     "output_type": "display_data"
    },
    {
     "name": "stdout",
     "output_type": "stream",
     "text": [
      "\n"
     ]
    },
    {
     "data": {
      "application/vnd.jupyter.widget-view+json": {
       "model_id": "ba87b80896f14925a2dfe5533207da7c",
       "version_major": 2,
       "version_minor": 0
      },
      "text/plain": [
       "HBox(children=(FloatProgress(value=0.0, max=76503.0), HTML(value='')))"
      ]
     },
     "metadata": {},
     "output_type": "display_data"
    },
    {
     "name": "stdout",
     "output_type": "stream",
     "text": [
      "\n"
     ]
    },
    {
     "data": {
      "application/vnd.jupyter.widget-view+json": {
       "model_id": "d40629378075412ab01a804a52e9ecd4",
       "version_major": 2,
       "version_minor": 0
      },
      "text/plain": [
       "HBox(children=(FloatProgress(value=0.0, max=53082.0), HTML(value='')))"
      ]
     },
     "metadata": {},
     "output_type": "display_data"
    },
    {
     "name": "stdout",
     "output_type": "stream",
     "text": [
      "\n"
     ]
    },
    {
     "data": {
      "application/vnd.jupyter.widget-view+json": {
       "model_id": "91aa02010e21478c819ce04ccef78922",
       "version_major": 2,
       "version_minor": 0
      },
      "text/plain": [
       "HBox(children=(FloatProgress(value=0.0, max=75924.0), HTML(value='')))"
      ]
     },
     "metadata": {},
     "output_type": "display_data"
    },
    {
     "name": "stdout",
     "output_type": "stream",
     "text": [
      "\n"
     ]
    },
    {
     "data": {
      "application/vnd.jupyter.widget-view+json": {
       "model_id": "a4847b6fc179461aa94e15c453935202",
       "version_major": 2,
       "version_minor": 0
      },
      "text/plain": [
       "HBox(children=(FloatProgress(value=0.0, max=52104.0), HTML(value='')))"
      ]
     },
     "metadata": {},
     "output_type": "display_data"
    },
    {
     "name": "stdout",
     "output_type": "stream",
     "text": [
      "\n"
     ]
    },
    {
     "data": {
      "application/vnd.jupyter.widget-view+json": {
       "model_id": "74451381dac1458e9936884ed2cc225c",
       "version_major": 2,
       "version_minor": 0
      },
      "text/plain": [
       "HBox(children=(FloatProgress(value=0.0, max=75980.0), HTML(value='')))"
      ]
     },
     "metadata": {},
     "output_type": "display_data"
    },
    {
     "name": "stdout",
     "output_type": "stream",
     "text": [
      "\n"
     ]
    },
    {
     "data": {
      "application/vnd.jupyter.widget-view+json": {
       "model_id": "97a4f3be5ec14e0eb975099fdd19b899",
       "version_major": 2,
       "version_minor": 0
      },
      "text/plain": [
       "HBox(children=(FloatProgress(value=0.0, max=52363.0), HTML(value='')))"
      ]
     },
     "metadata": {},
     "output_type": "display_data"
    },
    {
     "name": "stdout",
     "output_type": "stream",
     "text": [
      "\n"
     ]
    },
    {
     "data": {
      "application/vnd.jupyter.widget-view+json": {
       "model_id": "198fa9232f1d4efdaa784dc066c585cd",
       "version_major": 2,
       "version_minor": 0
      },
      "text/plain": [
       "HBox(children=(FloatProgress(value=0.0, max=75409.0), HTML(value='')))"
      ]
     },
     "metadata": {},
     "output_type": "display_data"
    },
    {
     "name": "stdout",
     "output_type": "stream",
     "text": [
      "\n"
     ]
    },
    {
     "data": {
      "application/vnd.jupyter.widget-view+json": {
       "model_id": "8ed4b1683ac944a0857e4e12820c1e0d",
       "version_major": 2,
       "version_minor": 0
      },
      "text/plain": [
       "HBox(children=(FloatProgress(value=0.0, max=51264.0), HTML(value='')))"
      ]
     },
     "metadata": {},
     "output_type": "display_data"
    },
    {
     "name": "stdout",
     "output_type": "stream",
     "text": [
      "\n"
     ]
    },
    {
     "data": {
      "application/vnd.jupyter.widget-view+json": {
       "model_id": "10e2e1dfabe74c378319a7701447d21c",
       "version_major": 2,
       "version_minor": 0
      },
      "text/plain": [
       "HBox(children=(FloatProgress(value=0.0, max=75985.0), HTML(value='')))"
      ]
     },
     "metadata": {},
     "output_type": "display_data"
    },
    {
     "name": "stdout",
     "output_type": "stream",
     "text": [
      "\n"
     ]
    },
    {
     "data": {
      "application/vnd.jupyter.widget-view+json": {
       "model_id": "062db9a55b2c45cdbd1ce50b9fe050c0",
       "version_major": 2,
       "version_minor": 0
      },
      "text/plain": [
       "HBox(children=(FloatProgress(value=0.0, max=52398.0), HTML(value='')))"
      ]
     },
     "metadata": {},
     "output_type": "display_data"
    },
    {
     "name": "stdout",
     "output_type": "stream",
     "text": [
      "\n"
     ]
    },
    {
     "data": {
      "application/vnd.jupyter.widget-view+json": {
       "model_id": "98800a52d5c343d7bed4fe50847cfe37",
       "version_major": 2,
       "version_minor": 0
      },
      "text/plain": [
       "HBox(children=(FloatProgress(value=0.0, max=54062.0), HTML(value='')))"
      ]
     },
     "metadata": {},
     "output_type": "display_data"
    },
    {
     "name": "stdout",
     "output_type": "stream",
     "text": [
      "\n"
     ]
    },
    {
     "data": {
      "application/vnd.jupyter.widget-view+json": {
       "model_id": "a57791d5841747f49754e8b1fa53809c",
       "version_major": 2,
       "version_minor": 0
      },
      "text/plain": [
       "HBox(children=(FloatProgress(value=0.0, max=37674.0), HTML(value='')))"
      ]
     },
     "metadata": {},
     "output_type": "display_data"
    },
    {
     "name": "stdout",
     "output_type": "stream",
     "text": [
      "\n"
     ]
    }
   ],
   "source": [
    "motifs_full = extract_player_motifs(events)"
   ]
  },
  {
   "cell_type": "code",
   "execution_count": 221,
   "metadata": {},
   "outputs": [
    {
     "data": {
      "application/vnd.jupyter.widget-view+json": {
       "model_id": "bf7056eeeeab44c1b91743ad36e46e12",
       "version_major": 2,
       "version_minor": 0
      },
      "text/plain": [
       "HBox(children=(FloatProgress(value=0.0, max=1167716.0), HTML(value='')))"
      ]
     },
     "metadata": {},
     "output_type": "display_data"
    },
    {
     "name": "stdout",
     "output_type": "stream",
     "text": [
      "\n"
     ]
    }
   ],
   "source": [
    "fc_H1 = extract_flow_centrality(eventsH1)"
   ]
  },
  {
   "cell_type": "code",
   "execution_count": 247,
   "metadata": {},
   "outputs": [
    {
     "data": {
      "application/vnd.jupyter.widget-view+json": {
       "model_id": "",
       "version_major": 2,
       "version_minor": 0
      },
      "text/plain": [
       "HBox(children=(FloatProgress(value=0.0, max=1173294.0), HTML(value='')))"
      ]
     },
     "metadata": {},
     "output_type": "display_data"
    },
    {
     "name": "stdout",
     "output_type": "stream",
     "text": [
      "\n"
     ]
    }
   ],
   "source": [
    "fc_H2 = extract_flow_centrality(eventsH2)"
   ]
  },
  {
   "cell_type": "code",
   "execution_count": 269,
   "metadata": {},
   "outputs": [
    {
     "data": {
      "application/vnd.jupyter.widget-view+json": {
       "model_id": "b23ea1c58d484a428ca05f01c01cc16d",
       "version_major": 2,
       "version_minor": 0
      },
      "text/plain": [
       "HBox(children=(FloatProgress(value=0.0, max=2341010.0), HTML(value='')))"
      ]
     },
     "metadata": {},
     "output_type": "display_data"
    },
    {
     "name": "stdout",
     "output_type": "stream",
     "text": [
      "\n"
     ]
    }
   ],
   "source": [
    "fc_full = extract_flow_centrality(events)"
   ]
  },
  {
   "cell_type": "code",
   "execution_count": 259,
   "metadata": {},
   "outputs": [],
   "source": [
    "H1_data = players_stats_H1.merge(motifs_H1, on='playerId', how='left').merge(fc_H1, on='playerId', how='left')"
   ]
  },
  {
   "cell_type": "code",
   "execution_count": 260,
   "metadata": {},
   "outputs": [],
   "source": [
    "H2_data = players_stats_H2.merge(motifs_H2, on='playerId', how='left').merge(fc_H2, on='playerId', how='left')"
   ]
  },
  {
   "cell_type": "code",
   "execution_count": 270,
   "metadata": {},
   "outputs": [],
   "source": [
    "full_data = players_stats_full.merge(motifs_full, on='playerId', how='left').merge(fc_full, on='playerId', how='left')"
   ]
  },
  {
   "cell_type": "code",
   "execution_count": 271,
   "metadata": {},
   "outputs": [],
   "source": [
    "# Normalize Network Motifs per 90 minutes played\n",
    "for column in ['ABCD', 'BACD', 'BCAD', 'BCDA', 'ABAB', 'BABA', 'ABAC', 'BABC', 'BCBA', 'ABCA', 'BACB', 'BCAB', 'ABCB', 'BACA', 'BCAC']:\n",
    "    H1_data[column] = H1_data[column] / H1_data.minutesPlayed * 90\n",
    "    H2_data[column] = H2_data[column] / H2_data.minutesPlayed * 90\n",
    "    full_data[column] = full_data[column] / full_data.minutesPlayed * 90"
   ]
  },
  {
   "cell_type": "code",
   "execution_count": 264,
   "metadata": {},
   "outputs": [],
   "source": [
    "# Export the data\n",
    "H1_data.to_csv('final_data/H1_random.csv', index=False)\n",
    "H2_data.to_csv('final_data/H2_random.csv', index=False)"
   ]
  },
  {
   "cell_type": "code",
   "execution_count": 273,
   "metadata": {},
   "outputs": [],
   "source": [
    "full_data.to_csv('final_data/full_data.csv', index=False)"
   ]
  }
 ],
 "metadata": {
  "kernelspec": {
   "display_name": "Python 3",
   "language": "python",
   "name": "python3"
  },
  "language_info": {
   "codemirror_mode": {
    "name": "ipython",
    "version": 3
   },
   "file_extension": ".py",
   "mimetype": "text/x-python",
   "name": "python",
   "nbconvert_exporter": "python",
   "pygments_lexer": "ipython3",
   "version": "3.7.6"
  }
 },
 "nbformat": 4,
 "nbformat_minor": 4
}
